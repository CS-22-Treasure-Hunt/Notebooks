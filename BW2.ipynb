{
 "cells": [
  {
   "cell_type": "code",
   "execution_count": 1,
   "metadata": {},
   "outputs": [],
   "source": [
    "class Queue():\n",
    "    def __init__(self):\n",
    "        self.queue = []\n",
    "    def enqueue(self, value):\n",
    "        self.queue.append(value)\n",
    "    def dequeue(self):\n",
    "        if self.size() > 0:\n",
    "            return self.queue.pop(0)\n",
    "        else:\n",
    "            return None\n",
    "    def size(self):\n",
    "        return len(self.queue)\n",
    "\n",
    "class Stack():\n",
    "    def __init__(self):\n",
    "        self.stack = []\n",
    "    def push(self, value):\n",
    "        self.stack.append(value)\n",
    "    def pop(self):\n",
    "        if self.size() > 0:\n",
    "            return self.stack.pop()\n",
    "        else:\n",
    "            return None\n",
    "    def size(self):\n",
    "        return len(self.stack)\n",
    "    \n",
    "class Graph:\n",
    "    \"\"\"Represent a graph as a dictionary of vertices mapping labels to edges.\"\"\"\n",
    "    def __init__(self):\n",
    "        self.vertices = {}\n",
    "    def add_vertex(self, vertex):\n",
    "        \"\"\"\n",
    "        Add a vertex to the graph.\n",
    "        \"\"\"\n",
    "        self.vertices[vertex] = set()\n",
    "    def add_edge(self, v1, v2):\n",
    "        \"\"\"\n",
    "        Add a directed edge to the graph.\n",
    "        \"\"\"\n",
    "        if v1 in self.vertices and v2 in self.vertices:\n",
    "            self.vertices[v1].add(v2)\n",
    "        else:\n",
    "            raise IndexError('The vertex does not exist.')\n",
    "    def bft(self, starting_vertex):\n",
    "        \"\"\"\n",
    "        Print each vertex in breadth-first order\n",
    "        beginning from starting_vertex.\n",
    "        \"\"\"\n",
    "        # Create an empty queue and enqueue the starting vertex ID\n",
    "        q = Queue()\n",
    "        q.enqueue(starting_vertex)\n",
    "\n",
    "        # Create an empty set to store visited verticies\n",
    "        visted = set()\n",
    "\n",
    "        # While the queue is not empty...\n",
    "        while q.size() > 0 :\n",
    "\n",
    "            # Dequeue the first vertex\n",
    "            v = q.dequeue()\n",
    "\n",
    "            # If that vertex has not been visted...\n",
    "            if v not in visted:\n",
    "\n",
    "                # Mark it as visted\n",
    "                print(v)\n",
    "                visted.add(v)\n",
    "\n",
    "                # Then add all of its neighbors to the back of the queue\n",
    "                for neighbor in self.verticies[v]:\n",
    "                    q.enqueue(neighbor)\n",
    "    def dft(self, starting_vertex):\n",
    "        \"\"\"\n",
    "        Print each vertex in depth-first order\n",
    "        beginning from starting_vertex.\n",
    "        \"\"\"\n",
    "        # Create an empty stack and push the starting vertex ID\n",
    "        s = Stack()\n",
    "        s.push(starting_vertex)\n",
    "\n",
    "        # Create a Set to store visted vertices\n",
    "        visited = set()\n",
    "\n",
    "        # While the stack is not empty...\n",
    "        while s.size() > 0:\n",
    "\n",
    "            # Pop the first vertex\n",
    "            v = s.pop()\n",
    "\n",
    "            # If that vertex has not been visted...\n",
    "            if v not in visited:\n",
    "\n",
    "                # Mark it as visited...\n",
    "                print(v)\n",
    "                visited.add(v)\n",
    "\n",
    "                # Then add all of its neighbors to the top of the stack\n",
    "                for neighbor in self.vertices[v]:\n",
    "                    s.push(neighbor)\n",
    "\n",
    "    def dft_recursive(self, starting_vertex, visited=None):\n",
    "        \"\"\"\n",
    "        Print each vertex in depth-first order\n",
    "        beginning from starting_vertex.\n",
    "        This should be done using recursion.\n",
    "        \"\"\"\n",
    "        # Initialize visited, if it hasn't been initialized yet\n",
    "        if not visited:\n",
    "            visited = set()\n",
    "\n",
    "        if neighbor not in visited:\n",
    "            # Print vertex\n",
    "            print(starting_vertex)\n",
    "            # Mark as visited\n",
    "            visited.add(starting_vertex)\n",
    "            # Loop through connected vertex\n",
    "            for neighbor in self.vertices[starting_vertex]:\n",
    "                # Call DFT recursion\n",
    "                self.dft_recursive(neighbor, visited)\n",
    "\n",
    "    def bfs(self, starting_vertex, destination_vertex):\n",
    "        \"\"\"\n",
    "        Return a list containing the shortest path from\n",
    "        starting_vertex to destination_vertex in\n",
    "        breath-first order.\n",
    "        \"\"\"\n",
    "        # Create an empty queue and enqueue A PATH TO the starting vertex ID\n",
    "        q = Queue()\n",
    "        q.enqueue([starting_vertex])\n",
    "\n",
    "        # Create a Set to store visited vertices\n",
    "        visited = set()\n",
    "        # While the queue is not empty...\n",
    "        while q.size() > 0:\n",
    "            # Dequeue the first PATH\n",
    "            path = q.dequeue()\n",
    "            #print('path', path)\n",
    "            # Grab the last vertex from the PATH\n",
    "            last_vertex = path[-1]\n",
    "            #print('last_vertex', last_vertex)\n",
    "            # If that vertex has not been visited...\n",
    "            if last_vertex not in visited:\n",
    "                # CHECK IF IT'S THE TARGET\n",
    "                if last_vertex == destination_vertex:\n",
    "                  # IF SO, RETURN PATH\n",
    "                  return path\n",
    "                # Mark it as visited...\n",
    "                visited.add(last_vertex)\n",
    "                #print('visited', visited)\n",
    "                # Then add A PATH TO its neighbors to the back of the queue\n",
    "                for neighbor in self.vertices[last_vertex]:\n",
    "                  # COPY THE PATH\n",
    "                  copy_path = list(path)\n",
    "                  copy_path.append(neighbor)\n",
    "                  # APPEND THE NEIGHOR TO THE BACK\n",
    "                  q.enqueue(copy_path)\n",
    "\n",
    "    def dfs(self, starting_vertex, destination_vertex):\n",
    "        \"\"\"\n",
    "        Return a list containing a path from\n",
    "        starting_vertex to destination_vertex in\n",
    "        depth-first order.\n",
    "        \"\"\"\n",
    "        # Create an empty stack and push A PATH TO the starting vertex ID\n",
    "        s = Stack()\n",
    "        s.push([starting_vertex])\n",
    "\n",
    "        # Create a Set to store visited vertices\n",
    "        visited = set()\n",
    "\n",
    "        # While the stack is not empty...\n",
    "        while s.size() > 0:\n",
    "            # Pop the first PATH\n",
    "            path = s.pop()\n",
    "            #print('path', path)\n",
    "            # Grab the last vertex from the PATH\n",
    "            last_vertex = path[-1]\n",
    "            #print('last_vertex', last_vertex)\n",
    "            # If that vertex has not been visited...\n",
    "            if last_vertex not in visited:\n",
    "                # CHECK IF IT'S THE TARGET\n",
    "                if last_vertex == destination_vertex:\n",
    "                  # IF SO, RETURN PATH\n",
    "                  return path\n",
    "                # Mark it as visited...\n",
    "                visited.add(last_vertex)\n",
    "                #print('visited', visited)\n",
    "                # Then add A PATH TO its neighbors to the back of the stack\n",
    "                for neighbor in self.vertices[last_vertex]:\n",
    "                  # COPY THE PATH\n",
    "                  copy_path = list(path)\n",
    "                  copy_path.append(neighbor)\n",
    "                  # APPEND THE NEIGHOR TO THE BACK\n",
    "                  s.push(copy_path)"
   ]
  },
  {
   "cell_type": "code",
   "execution_count": 2,
   "metadata": {},
   "outputs": [],
   "source": [
    "import requests\n",
    "import time\n",
    "\n",
    "class Player:\n",
    "    url = 'https://lambda-treasure-hunt.herokuapp.com/api/'\n",
    "    token = ''\n",
    "    \n",
    "    def __init__(self):\n",
    "        init = 'adv/init/'\n",
    "        \n",
    "        # Save map here\n",
    "        self.map_ = {}\n",
    "        self.room_id = None\n",
    "        self.cd = None\n",
    "        \n",
    "        # Get the Response\n",
    "        self.response = requests.get(url=self.url + init, \n",
    "                                     headers={'Authorization': 'Token ' + self.token})\n",
    "        \n",
    "        # Save initial room\n",
    "        room_info = self.get_room_info()\n",
    "        self.save_room()\n",
    "        \n",
    "        # Save cooldown\n",
    "        self.cd = room_info['cooldown']\n",
    "        \n",
    "        \n",
    "    def refreseh(self):\n",
    "        self.response = requests.get(url=self.url + init, \n",
    "                             headers={'Authorization': 'Token ' + self.token})\n",
    "        \n",
    "        return self.response.json()\n",
    "    \n",
    "    def get_room_info(self):\n",
    "        # If Response is Successful\n",
    "        if self.response.status_code == 200:\n",
    "            # Get the json of the current room\n",
    "            return self.response.json()\n",
    "        else:\n",
    "            print(f'Unsuccessful: {self.response.status_code}')\n",
    "            \n",
    "    def save_room(self, prev_room_id=None, direction=None):\n",
    "        inverse_map = {'n':'s', 's':'n', 'e':'w', 'w':'e'}\n",
    "        \n",
    "        # Initialize first save\n",
    "        self.room_id = self.get_room_info()['room_id']\n",
    "        \n",
    "        # Save room id to map\n",
    "        if self.room_id not in self.map_:\n",
    "            self.map_[self.room_id] = {'n':0, 's':0, 'e':0, 'w':0}\n",
    "            \n",
    "        # If I have a previous room number or the previous room id is 0\n",
    "        if prev_room_id or prev_room_id == 0:\n",
    "            \n",
    "            # Save previous room to current room\n",
    "            self.map_[prev_room_id].update({direction:self.room_id})\n",
    "            \n",
    "            # Save current room to previous room\n",
    "            self.map_[self.room_id].update({inverse_map[direction]:prev_room_id})\n",
    "    \n",
    "    def next_room(self, direction):\n",
    "        move = 'adv/move/'\n",
    "        \n",
    "        # Wise explore\n",
    "        \n",
    "        # If room id exist in map and has the direction\n",
    "        if self.room_id in self.map_ and self.map_[self.room_id][direction]:\n",
    "            print('Wise Explore')\n",
    "            \n",
    "            # Use the map id and use the wise explore api\n",
    "            self.room_id = self.map_[self.room_id][direction]\n",
    "            path = {\"direction\":direction, \"next_room_id\":str(self.room_id)}\n",
    "            self.response = requests.post(self.url+move, headers={'Authorization': 'Token ' + self.token}, \n",
    "                      json=path)\n",
    "            # Get cooldown\n",
    "            self.cd = self.response.json()['cooldown']\n",
    "            \n",
    "        # Normal explore\n",
    "        else:\n",
    "            print('Normal Explore')\n",
    "            path = {\"direction\":direction}\n",
    "            prev_room_id = self.room_id\n",
    "            self.response = requests.post(self.url+move, headers={'Authorization': 'Token ' + self.token}, \n",
    "                          json=path)\n",
    "\n",
    "            if self.response.status_code == 200:\n",
    "                # Get cooldown\n",
    "                self.cd = self.response.json()['cooldown']\n",
    "                \n",
    "                # Save room\n",
    "                self.save_room(prev_room_id, direction)\n",
    "            else:\n",
    "                print('Not Success')\n",
    "        return self.get_room_info()"
   ]
  },
  {
   "cell_type": "code",
   "execution_count": 3,
   "metadata": {},
   "outputs": [],
   "source": [
    "player = Player()"
   ]
  },
  {
   "cell_type": "code",
   "execution_count": 4,
   "metadata": {},
   "outputs": [
    {
     "name": "stdout",
     "output_type": "stream",
     "text": [
      "{'room_id': 0, 'title': 'A brightly lit room', 'description': 'You are standing in the center of a brightly lit room. You notice a shop to the west and exits to the north, south and east.', 'coordinates': '(60,60)', 'elevation': 0, 'terrain': 'NORMAL', 'players': ['player402', 'player403', 'player404', 'player405', 'player406', 'player407', 'player408', 'player409', 'player410', 'player413', 'player414', 'player415', 'player416', 'player417', 'player419', 'player401', 'player421', 'player422', 'player423', 'player426', 'player427', 'player428', 'player429', 'player430', 'player431', 'player432', 'player435', 'player437', 'player438', 'player439', 'player441', 'player443', 'player444', 'player445', 'player446', 'player447', 'player448', 'player449', 'player450', 'player451', 'player454', 'player455', 'player456', 'player411', 'player457', 'player458', 'player459', 'player460', 'player461', 'player462', 'player465', 'player466', 'player467', 'player468', 'player469', 'player470', 'player471', 'player472', 'player473', 'player474', 'player475', 'player476', 'player477', 'player478', 'player479', 'player480', 'player481', 'player482', 'player483', 'player484', 'player485', 'player486', 'player487', 'player488', 'player489', 'player490', 'player491', 'player492', 'player493', 'player494', 'player495', 'player496', 'player497', 'player498', 'player499', 'player500'], 'items': [], 'exits': ['n', 's', 'e', 'w'], 'cooldown': 1.0, 'errors': [], 'messages': []}\n"
     ]
    }
   ],
   "source": [
    "print(player.get_room_info())"
   ]
  },
  {
   "cell_type": "code",
   "execution_count": 91,
   "metadata": {},
   "outputs": [
    {
     "data": {
      "text/plain": [
       "1.0"
      ]
     },
     "execution_count": 91,
     "metadata": {},
     "output_type": "execute_result"
    }
   ],
   "source": [
    "player.cd"
   ]
  },
  {
   "cell_type": "code",
   "execution_count": 96,
   "metadata": {},
   "outputs": [
    {
     "data": {
      "text/plain": [
       "{0: {'n': 0, 's': 2, 'e': 0, 'w': 0}, 2: {'n': 0, 's': 0, 'e': 0, 'w': 0}}"
      ]
     },
     "execution_count": 96,
     "metadata": {},
     "output_type": "execute_result"
    }
   ],
   "source": [
    "player.map_"
   ]
  },
  {
   "cell_type": "code",
   "execution_count": 95,
   "metadata": {},
   "outputs": [
    {
     "name": "stdout",
     "output_type": "stream",
     "text": [
      "Normal Explore\n"
     ]
    },
    {
     "data": {
      "text/plain": [
       "{'room_id': 0,\n",
       " 'title': 'A brightly lit room',\n",
       " 'description': 'You are standing in the center of a brightly lit room. You notice a shop to the west and exits to the north, south and east.',\n",
       " 'coordinates': '(60,60)',\n",
       " 'elevation': 0,\n",
       " 'terrain': 'NORMAL',\n",
       " 'players': ['player402',\n",
       "  'player403',\n",
       "  'player404',\n",
       "  'player405',\n",
       "  'player406',\n",
       "  'player407',\n",
       "  'player408',\n",
       "  'player409',\n",
       "  'player410',\n",
       "  'player413',\n",
       "  'player414',\n",
       "  'player415',\n",
       "  'player416',\n",
       "  'player417',\n",
       "  'player419',\n",
       "  'player401',\n",
       "  'player421',\n",
       "  'player422',\n",
       "  'player423',\n",
       "  'player426',\n",
       "  'player427',\n",
       "  'player428',\n",
       "  'player429',\n",
       "  'player430',\n",
       "  'player431',\n",
       "  'player432',\n",
       "  'player435',\n",
       "  'player437',\n",
       "  'player438',\n",
       "  'player439',\n",
       "  'player441',\n",
       "  'player443',\n",
       "  'player444',\n",
       "  'player445',\n",
       "  'player446',\n",
       "  'player447',\n",
       "  'player448',\n",
       "  'player449',\n",
       "  'player450',\n",
       "  'player451',\n",
       "  'player454',\n",
       "  'player455',\n",
       "  'player456',\n",
       "  'player411',\n",
       "  'player457',\n",
       "  'player458',\n",
       "  'player459',\n",
       "  'player460',\n",
       "  'player461',\n",
       "  'player462',\n",
       "  'player465',\n",
       "  'player466',\n",
       "  'player467',\n",
       "  'player468',\n",
       "  'player469',\n",
       "  'player470',\n",
       "  'player471',\n",
       "  'player472',\n",
       "  'player473',\n",
       "  'player474',\n",
       "  'player475',\n",
       "  'player476',\n",
       "  'player477',\n",
       "  'player478',\n",
       "  'player479',\n",
       "  'player480',\n",
       "  'player481',\n",
       "  'player482',\n",
       "  'player483',\n",
       "  'player484',\n",
       "  'player485',\n",
       "  'player486',\n",
       "  'player487',\n",
       "  'player488',\n",
       "  'player489',\n",
       "  'player490',\n",
       "  'player491',\n",
       "  'player492',\n",
       "  'player493',\n",
       "  'player494',\n",
       "  'player495',\n",
       "  'player496',\n",
       "  'player497',\n",
       "  'player498',\n",
       "  'player499',\n",
       "  'player500'],\n",
       " 'items': [],\n",
       " 'exits': ['n', 's', 'e', 'w'],\n",
       " 'cooldown': 15.0,\n",
       " 'errors': [],\n",
       " 'messages': ['You have walked north.']}"
      ]
     },
     "execution_count": 95,
     "metadata": {},
     "output_type": "execute_result"
    }
   ],
   "source": [
    "player.next_room('n')"
   ]
  },
  {
   "cell_type": "code",
   "execution_count": 16,
   "metadata": {},
   "outputs": [
    {
     "data": {
      "text/plain": [
       "{0: {'n': 10, 's': 0, 'e': 0, 'w': 0}, 10: {'n': 0, 's': 0, 'e': 0, 'w': 0}}"
      ]
     },
     "execution_count": 16,
     "metadata": {},
     "output_type": "execute_result"
    }
   ],
   "source": [
    "player.map_"
   ]
  },
  {
   "cell_type": "code",
   "execution_count": 242,
   "metadata": {},
   "outputs": [
    {
     "data": {
      "text/plain": [
       "True"
      ]
     },
     "execution_count": 242,
     "metadata": {},
     "output_type": "execute_result"
    }
   ],
   "source": [
    "player.room_id in player.map_"
   ]
  },
  {
   "cell_type": "code",
   "execution_count": 256,
   "metadata": {},
   "outputs": [
    {
     "data": {
      "text/plain": [
       "2"
      ]
     },
     "execution_count": 256,
     "metadata": {},
     "output_type": "execute_result"
    }
   ],
   "source": [
    "player.map_[player.room_id]['s']"
   ]
  },
  {
   "cell_type": "code",
   "execution_count": 340,
   "metadata": {},
   "outputs": [
    {
     "name": "stdout",
     "output_type": "stream",
     "text": [
      "direction n\n",
      "room_id 2\n",
      "Normal Explore\n"
     ]
    }
   ],
   "source": [
    "player.next_room('n')"
   ]
  },
  {
   "cell_type": "code",
   "execution_count": 15,
   "metadata": {},
   "outputs": [
    {
     "data": {
      "text/plain": [
       "{13: {'n': 0, 's': 0, 'e': 0, 'w': 0}}"
      ]
     },
     "execution_count": 15,
     "metadata": {},
     "output_type": "execute_result"
    }
   ],
   "source": [
    "player.map_"
   ]
  },
  {
   "cell_type": "code",
   "execution_count": 23,
   "metadata": {},
   "outputs": [
    {
     "name": "stdout",
     "output_type": "stream",
     "text": [
      "{'room_id': 13, 'title': 'A misty room', 'description': 'You are standing on grass and surrounded by a dense mist. You can barely make out the exits in any direction.', 'coordinates': '(62,60)', 'elevation': 0, 'terrain': 'NORMAL', 'players': [], 'items': ['tiny treasure'], 'exits': ['e', 'w'], 'cooldown': 7.5, 'errors': [], 'messages': ['You have walked west.', 'Wise Explorer: -50% CD']}\n"
     ]
    }
   ],
   "source": [
    "print(player.get_room_info())"
   ]
  },
  {
   "cell_type": "code",
   "execution_count": 62,
   "metadata": {},
   "outputs": [
    {
     "data": {
      "text/plain": [
       "0"
      ]
     },
     "execution_count": 62,
     "metadata": {},
     "output_type": "execute_result"
    }
   ],
   "source": [
    "player.room_id"
   ]
  },
  {
   "cell_type": "code",
   "execution_count": 3,
   "metadata": {
    "scrolled": true
   },
   "outputs": [
    {
     "name": "stdout",
     "output_type": "stream",
     "text": [
      "Stack [{'room_id': 13, 'title': 'A misty room', 'description': 'You are standing on grass and surrounded by a dense mist. You can barely make out the exits in any direction.', 'coordinates': '(62,60)', 'elevation': 0, 'terrain': 'NORMAL', 'players': [], 'items': [], 'exits': ['e', 'w'], 'cooldown': 1.0, 'errors': [], 'messages': []}] \n",
      "\n",
      "Current Room {'room_id': 13, 'title': 'A misty room', 'description': 'You are standing on grass and surrounded by a dense mist. You can barely make out the exits in any direction.', 'coordinates': '(62,60)', 'elevation': 0, 'terrain': 'NORMAL', 'players': [], 'items': [], 'exits': ['e', 'w'], 'cooldown': 1.0, 'errors': [], 'messages': []}\n"
     ]
    },
    {
     "ename": "TypeError",
     "evalue": "'int' object is not iterable",
     "output_type": "error",
     "traceback": [
      "\u001b[1;31m---------------------------------------------------------------------------\u001b[0m",
      "\u001b[1;31mTypeError\u001b[0m                                 Traceback (most recent call last)",
      "\u001b[1;32m<ipython-input-3-2b43ec3fec5e>\u001b[0m in \u001b[0;36m<module>\u001b[1;34m\u001b[0m\n\u001b[0;32m     23\u001b[0m     \u001b[0mprint\u001b[0m\u001b[1;33m(\u001b[0m\u001b[1;34m'Current Room'\u001b[0m\u001b[1;33m,\u001b[0m \u001b[0mroom_info\u001b[0m\u001b[1;33m)\u001b[0m\u001b[1;33m\u001b[0m\u001b[1;33m\u001b[0m\u001b[0m\n\u001b[0;32m     24\u001b[0m     \u001b[1;32mif\u001b[0m \u001b[0mroom_info\u001b[0m\u001b[1;33m[\u001b[0m\u001b[1;34m'room_id'\u001b[0m\u001b[1;33m]\u001b[0m \u001b[1;32mnot\u001b[0m \u001b[1;32min\u001b[0m \u001b[0mvisited_rooms\u001b[0m\u001b[1;33m:\u001b[0m\u001b[1;33m\u001b[0m\u001b[1;33m\u001b[0m\u001b[0m\n\u001b[1;32m---> 25\u001b[1;33m         \u001b[0mvisited_rooms\u001b[0m\u001b[1;33m.\u001b[0m\u001b[0mupdate\u001b[0m\u001b[1;33m(\u001b[0m\u001b[0mroom_info\u001b[0m\u001b[1;33m[\u001b[0m\u001b[1;34m'room_id'\u001b[0m\u001b[1;33m]\u001b[0m\u001b[1;33m)\u001b[0m\u001b[1;33m\u001b[0m\u001b[1;33m\u001b[0m\u001b[0m\n\u001b[0m\u001b[0;32m     26\u001b[0m         \u001b[1;32mfor\u001b[0m \u001b[0mdirection\u001b[0m \u001b[1;32min\u001b[0m \u001b[0mroom_info\u001b[0m\u001b[1;33m[\u001b[0m\u001b[1;34m'exits'\u001b[0m\u001b[1;33m]\u001b[0m\u001b[1;33m:\u001b[0m\u001b[1;33m\u001b[0m\u001b[1;33m\u001b[0m\u001b[0m\n\u001b[0;32m     27\u001b[0m             \u001b[0mnext_room\u001b[0m \u001b[1;33m=\u001b[0m \u001b[0mplayer\u001b[0m\u001b[1;33m.\u001b[0m\u001b[0mnext_room\u001b[0m\u001b[1;33m(\u001b[0m\u001b[0mdirection\u001b[0m\u001b[1;33m)\u001b[0m\u001b[1;33m\u001b[0m\u001b[1;33m\u001b[0m\u001b[0m\n",
      "\u001b[1;31mTypeError\u001b[0m: 'int' object is not iterable"
     ]
    }
   ],
   "source": [
    "# Instantiate Player\n",
    "player = Player()\n",
    "\n",
    "# Fill this out\n",
    "# traversalPath = []\n",
    "\n",
    "# TRAVERSAL TEST\n",
    "visited_rooms = {}\n",
    "\n",
    "'''\n",
    "Depth-First Traversal Stack Solution\n",
    "'''\n",
    "start_room = player.get_room_info()\n",
    "s = Stack()\n",
    "s.push(start_room)\n",
    "\n",
    "# CD after instantiate player - 1 second\n",
    "time.sleep(player.cd)\n",
    "\n",
    "while s.size() > 0:\n",
    "    print('Stack', s.stack, '\\n')\n",
    "    room_info = s.pop()\n",
    "    print('Current Room', room_info)\n",
    "    if room_info['room_id'] not in visited_rooms:\n",
    "        visited_rooms.update(room_info['room_id'])\n",
    "        for direction in room_info['exits']:\n",
    "            next_room = player.next_room(direction)\n",
    "            s.push(next_room)\n",
    "            print('Map', player.map_)\n",
    "            print('Next Room', next_room, '\\n')\n",
    "            time.sleep(player.cd)\n",
    "\n",
    "    \n",
    "    \n",
    "#         if direction == 'n':\n",
    "#             s.push(next_room)\n",
    "#             time.sleep(next_room['cooldown'])\n",
    "#             traversalPath.append(direction)\n",
    "#         elif direction == 's':\n",
    "#             s.push(next_room)\n",
    "#             time.sleep(next_room['cooldown'])\n",
    "#             traversalPath.append(direction)\n",
    "#         elif direction == 'w':\n",
    "#             s.push(next_room)\n",
    "#             time.sleep(next_room['cooldown'])\n",
    "#             traversalPath.append(direction)\n",
    "#         else:\n",
    "#             s.push(next_room)\n",
    "#             time.sleep(next_room['cooldown'])\n",
    "#             traversalPath.append(direction)"
   ]
  },
  {
   "cell_type": "code",
   "execution_count": null,
   "metadata": {},
   "outputs": [],
   "source": []
  }
 ],
 "metadata": {
  "kernelspec": {
   "display_name": "Python 3",
   "language": "python",
   "name": "python3"
  },
  "language_info": {
   "codemirror_mode": {
    "name": "ipython",
    "version": 3
   },
   "file_extension": ".py",
   "mimetype": "text/x-python",
   "name": "python",
   "nbconvert_exporter": "python",
   "pygments_lexer": "ipython3",
   "version": "3.7.4"
  }
 },
 "nbformat": 4,
 "nbformat_minor": 4
}
