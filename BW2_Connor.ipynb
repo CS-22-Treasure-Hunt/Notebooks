{
 "cells": [
  {
   "cell_type": "code",
   "execution_count": 13,
   "metadata": {},
   "outputs": [],
   "source": [
    "import requests\n",
    "import time"
   ]
  },
  {
   "cell_type": "code",
   "execution_count": 1,
   "metadata": {},
   "outputs": [],
   "source": [
    "class Stack():\n",
    "    def __init__(self):\n",
    "        self.stack = []\n",
    "    def push(self, value):\n",
    "        self.stack.append(value)\n",
    "    def pop(self):\n",
    "        if self.size() > 0:\n",
    "            return self.stack.pop()\n",
    "        else:\n",
    "            return None\n",
    "    def size(self):\n",
    "        return len(self.stack)"
   ]
  },
  {
   "cell_type": "code",
   "execution_count": 2,
   "metadata": {},
   "outputs": [],
   "source": [
    "class Graph:\n",
    "    \"\"\"Represent a graph as a dictionary of vertices mapping labels to edges.\"\"\"\n",
    "    def __init__(self):\n",
    "        self.vertices = {}\n",
    "    def add_vertex(self, vertex):\n",
    "        \"\"\"\n",
    "        Add a vertex to the graph.\n",
    "        \"\"\"\n",
    "        self.vertices[vertex] = {}\n",
    "\n",
    "    def add_direcs(self, vertex, exits):\n",
    "        \"\"\"\n",
    "        Add a directed edge to the graph.\n",
    "        \"\"\"\n",
    "        for i in exits:\n",
    "            self.vertices[vertex].update({i:'?'})\n",
    "\n",
    "    def get_neighbors(self, vertex_id):\n",
    "        return self.vertices[vertex_id]"
   ]
  },
  {
   "cell_type": "code",
   "execution_count": 62,
   "metadata": {},
   "outputs": [],
   "source": [
    "# Utils\n",
    "inverseMap = {'n':'s', 's':'n', 'e':'w', 'w':'e'}"
   ]
  },
  {
   "cell_type": "code",
   "execution_count": 61,
   "metadata": {},
   "outputs": [],
   "source": [
    "setupTable = {\n",
    "    \"url\": 'https://lambda-treasure-hunt.herokuapp.com/api/',\n",
    "    \"token\": \"d2679616e63cea70c89ff019addc2677a27c9388\",\n",
    "    \"init\": 'adv/init/',\n",
    "    \"move\": 'adv/move/',\n",
    "}\n",
    "\n",
    "header={'Authorization': 'Token ' + setupTable['token']}\n",
    "init = setupTable['url'] + setupTable['init']\n",
    "move = setupTable['url'] + setupTable['move']"
   ]
  },
  {
   "cell_type": "code",
   "execution_count": 149,
   "metadata": {},
   "outputs": [],
   "source": [
    "class Player:\n",
    "    \n",
    "    def __init__(self):\n",
    "        self.response = requests.get(url=init, headers=header)\n",
    "        self.playersMap = {}\n",
    "        self.coolDown = None\n",
    "        self.currentRoomID = self.getCurrentRoomId()\n",
    "        self.previousRoomID = None\n",
    "        self.lastMoveDirection = None\n",
    "        \n",
    "        \n",
    "    def refresh(self):\n",
    "        self.response = requests.get(url=init, headers=header)\n",
    "        return self.response.json()\n",
    "    \n",
    "    def getRoomInfo(self):\n",
    "        if self.response.status_code == 200:\n",
    "            return self.response.json()\n",
    "        else:\n",
    "            print(f'Unsuccessful: {self.response.status_code}')\n",
    "            \n",
    "    def getCurrentRoomId(self):\n",
    "        return self.getRoomInfo()['room_id']\n",
    "            \n",
    "    def writeNewRoomToMap(self):\n",
    "        exits = self.getRoomInfo()['exits']\n",
    "        \n",
    "        if self.currentRoomID not in self.playersMap:\n",
    "            self.playersMap[self.currentRoomID] = {key: '?' for key in exits}\n",
    "            \n",
    "    def writeMoveDirectionsForCurrentAndPreviousRoom(self, previousRoomID, currentRoomID, direction):\n",
    "        self.playersMap[previousRoomID][direction] = self.currentRoomID\n",
    "        self.playersMap[currentRoomID][inverseMap[direction]] = self.previousRoomID\n",
    "    \n",
    "    def moveRoom(self, direction):\n",
    "        if self.currentRoomID in self.playersMap and self.playersMap[self.currentRoomID][direction] !='?':\n",
    "            print('Wise Explore')\n",
    "            \n",
    "            self.previousRoomID = self.currentRoomID\n",
    "            \n",
    "            nextRoom = self.playersMap[self.currentRoomID][direction]\n",
    "            postRequestBody = {\"direction\":direction, \"next_room_id\":str(nextRoom)}\n",
    "            self.response = requests.post(url=move, headers=header, json=postRequestBody)\n",
    "\n",
    "            self.currentRoomID = self.getCurrentRoomId()\n",
    "            self.coolDown = self.response.json()['cooldown']\n",
    "            self.lastMoveDirection = direction\n",
    "        \n",
    "        else:\n",
    "            print('Normal Explore')\n",
    "            self.previousRoomID = self.currentRoomID\n",
    "            \n",
    "            postRequestBody = {\"direction\":direction}\n",
    "            self.response = requests.post(url=move, headers=header, json=postRequestBody)\n",
    "            \n",
    "            self.currentRoomID = self.getCurrentRoomId()\n",
    "            \n",
    "            if self.response.status_code == 200:\n",
    "                self.coolDown = self.response.json()['cooldown']\n",
    "                self.lastMoveDirection = direction\n",
    "                \n",
    "                self.writeNewRoomToMap()\n",
    "                self.writeMoveDirectionsForCurrentAndPreviousRoom(self.previousRoomID, self.currentRoomID, direction)\n",
    "            else:\n",
    "                print(\"The move was not successful, check coolDown attribute or current room exits\")\n",
    "            \n",
    "        return self.getRoomInfo()\n",
    "                \n",
    "    \n",
    "    def findUnexploredRoom(self):\n",
    "        for direction in self.playersMap[self.currentRoomID]:\n",
    "            if self.playersMap[self.currentRoomID][direction] == '?':\n",
    "                return direction\n",
    "        return direction\n",
    "        \n",
    "        "
   ]
  },
  {
   "cell_type": "code",
   "execution_count": 150,
   "metadata": {},
   "outputs": [],
   "source": [
    "player = Player()"
   ]
  },
  {
   "cell_type": "code",
   "execution_count": 97,
   "metadata": {},
   "outputs": [
    {
     "data": {
      "text/plain": [
       "{'room_id': 73,\n",
       " 'title': 'A misty room',\n",
       " 'description': 'You are standing on grass and surrounded by a dense mist. You can barely make out the exits in any direction.',\n",
       " 'coordinates': '(59,64)',\n",
       " 'elevation': 0,\n",
       " 'terrain': 'NORMAL',\n",
       " 'players': [],\n",
       " 'items': [],\n",
       " 'exits': ['e'],\n",
       " 'cooldown': 1.0,\n",
       " 'errors': [],\n",
       " 'messages': []}"
      ]
     },
     "execution_count": 97,
     "metadata": {},
     "output_type": "execute_result"
    }
   ],
   "source": [
    "player.getRoomInfo()"
   ]
  },
  {
   "cell_type": "code",
   "execution_count": 98,
   "metadata": {},
   "outputs": [
    {
     "data": {
      "text/plain": [
       "73"
      ]
     },
     "execution_count": 98,
     "metadata": {},
     "output_type": "execute_result"
    }
   ],
   "source": [
    "player.currentRoomID"
   ]
  },
  {
   "cell_type": "code",
   "execution_count": 100,
   "metadata": {},
   "outputs": [],
   "source": [
    "player.writeNewRoomToMap()"
   ]
  },
  {
   "cell_type": "code",
   "execution_count": 103,
   "metadata": {},
   "outputs": [
    {
     "data": {
      "text/plain": [
       "{73: {'e': 63}, 63: {'n': '?', 's': '?', 'w': 73}}"
      ]
     },
     "execution_count": 103,
     "metadata": {},
     "output_type": "execute_result"
    }
   ],
   "source": [
    "player.playersMap"
   ]
  },
  {
   "cell_type": "code",
   "execution_count": 102,
   "metadata": {},
   "outputs": [
    {
     "name": "stdout",
     "output_type": "stream",
     "text": [
      "Normal Explore\n"
     ]
    },
    {
     "data": {
      "text/plain": [
       "{'room_id': 63,\n",
       " 'title': 'A misty room',\n",
       " 'description': 'You are standing on grass and surrounded by a dense mist. You can barely make out the exits in any direction.',\n",
       " 'coordinates': '(60,64)',\n",
       " 'elevation': 0,\n",
       " 'terrain': 'NORMAL',\n",
       " 'players': [],\n",
       " 'items': [],\n",
       " 'exits': ['n', 's', 'w'],\n",
       " 'cooldown': 15.0,\n",
       " 'errors': [],\n",
       " 'messages': ['You have walked east.']}"
      ]
     },
     "execution_count": 102,
     "metadata": {},
     "output_type": "execute_result"
    }
   ],
   "source": [
    "player.moveRoom('e')"
   ]
  },
  {
   "cell_type": "code",
   "execution_count": 104,
   "metadata": {},
   "outputs": [
    {
     "name": "stdout",
     "output_type": "stream",
     "text": [
      "n\n",
      "s\n",
      "w\n"
     ]
    }
   ],
   "source": [
    "player.findUnexploredRoom()"
   ]
  },
  {
   "cell_type": "markdown",
   "metadata": {},
   "source": [
    "# Main Function"
   ]
  },
  {
   "cell_type": "code",
   "execution_count": 151,
   "metadata": {},
   "outputs": [],
   "source": [
    "def exploreWorld(player):\n",
    "    \n",
    "    roomStack = Stack()\n",
    "    moveStack = Stack()\n",
    "    \n",
    "    roomStack.push(player.currentRoomID)\n",
    "    \n",
    "    roomSet = set()\n",
    "    \n",
    "    player.writeNewRoomToMap()\n",
    "    roomSet.add(player.currentRoomID)\n",
    "    \n",
    "    while roomStack.size() > 0:\n",
    "        \n",
    "        direction = player.findUnexploredRoom()\n",
    "        print(\"Direction\", direction)\n",
    "        \n",
    "        if player.playersMap[player.currentRoomID][direction] == '?':\n",
    "            \n",
    "            player.moveRoom(direction)\n",
    "            moveStack.push(direction)\n",
    "            \n",
    "            print(\"Our player has left room\"+str(player.previousRoomID)+\"and has entered room\"+str(player.currentRoomID))\n",
    "            \n",
    "            roomStack.push(player.currentRoomID)\n",
    "            \n",
    "            if player.currentRoomID not in roomSet:\n",
    "                roomSet.add(player.currentRoomID)\n",
    "            \n",
    "            if player.coolDown:\n",
    "                time.sleep(player.coolDown)\n",
    "        else:\n",
    "            print(\"roomStack:\", roomStack.stack)\n",
    "            roomStack.pop()\n",
    "            lastMove = moveStack.pop()\n",
    "            \n",
    "            if roomStack.size() > 0:\n",
    "                player.previousRoomID = player.currentRoomID\n",
    "                player.move([inverseMap[lastMove]])\n",
    "                player.lastMoveDirection = moveStack[-1]\n",
    "            if player.coolDown: \n",
    "                time.sleep(player.coolDown)\n",
    "                \n",
    "    return \"You have traversed the world!\"\n",
    "        "
   ]
  },
  {
   "cell_type": "code",
   "execution_count": 152,
   "metadata": {},
   "outputs": [
    {
     "name": "stdout",
     "output_type": "stream",
     "text": [
      "Direction s\n",
      "Normal Explore\n",
      "Our player has left room72and has entered room63\n",
      "Direction s\n",
      "Normal Explore\n",
      "Our player has left room63and has entered room20\n",
      "Direction s\n",
      "Normal Explore\n",
      "Our player has left room20and has entered room19\n",
      "Direction s\n",
      "Normal Explore\n",
      "Our player has left room19and has entered room10\n",
      "Direction s\n",
      "Normal Explore\n",
      "Our player has left room10and has entered room0\n",
      "Direction s\n",
      "Normal Explore\n",
      "Our player has left room0and has entered room2\n",
      "Direction s\n",
      "Normal Explore\n",
      "Our player has left room2and has entered room6\n",
      "Direction w\n",
      "Normal Explore\n",
      "Our player has left room6and has entered room7\n",
      "Direction n\n",
      "Normal Explore\n",
      "Our player has left room7and has entered room8\n"
     ]
    },
    {
     "ename": "KeyboardInterrupt",
     "evalue": "",
     "output_type": "error",
     "traceback": [
      "\u001b[0;31m---------------------------------------------------------------------------\u001b[0m",
      "\u001b[0;31mKeyboardInterrupt\u001b[0m                         Traceback (most recent call last)",
      "\u001b[0;32m<ipython-input-152-0d43fb3018ee>\u001b[0m in \u001b[0;36m<module>\u001b[0;34m\u001b[0m\n\u001b[0;32m----> 1\u001b[0;31m \u001b[0mexploreWorld\u001b[0m\u001b[0;34m(\u001b[0m\u001b[0mplayer\u001b[0m\u001b[0;34m)\u001b[0m\u001b[0;34m\u001b[0m\u001b[0;34m\u001b[0m\u001b[0m\n\u001b[0m",
      "\u001b[0;32m<ipython-input-151-b6f9a3a9bfee>\u001b[0m in \u001b[0;36mexploreWorld\u001b[0;34m(player)\u001b[0m\n\u001b[1;32m     29\u001b[0m \u001b[0;34m\u001b[0m\u001b[0m\n\u001b[1;32m     30\u001b[0m             \u001b[0;32mif\u001b[0m \u001b[0mplayer\u001b[0m\u001b[0;34m.\u001b[0m\u001b[0mcoolDown\u001b[0m\u001b[0;34m:\u001b[0m\u001b[0;34m\u001b[0m\u001b[0;34m\u001b[0m\u001b[0m\n\u001b[0;32m---> 31\u001b[0;31m                 \u001b[0mtime\u001b[0m\u001b[0;34m.\u001b[0m\u001b[0msleep\u001b[0m\u001b[0;34m(\u001b[0m\u001b[0mplayer\u001b[0m\u001b[0;34m.\u001b[0m\u001b[0mcoolDown\u001b[0m\u001b[0;34m)\u001b[0m\u001b[0;34m\u001b[0m\u001b[0;34m\u001b[0m\u001b[0m\n\u001b[0m\u001b[1;32m     32\u001b[0m         \u001b[0;32melse\u001b[0m\u001b[0;34m:\u001b[0m\u001b[0;34m\u001b[0m\u001b[0;34m\u001b[0m\u001b[0m\n\u001b[1;32m     33\u001b[0m             \u001b[0mprint\u001b[0m\u001b[0;34m(\u001b[0m\u001b[0;34m\"roomStack:\"\u001b[0m\u001b[0;34m,\u001b[0m \u001b[0mroomStack\u001b[0m\u001b[0;34m.\u001b[0m\u001b[0mstack\u001b[0m\u001b[0;34m)\u001b[0m\u001b[0;34m\u001b[0m\u001b[0;34m\u001b[0m\u001b[0m\n",
      "\u001b[0;31mKeyboardInterrupt\u001b[0m: "
     ]
    }
   ],
   "source": [
    "exploreWorld(player)"
   ]
  },
  {
   "cell_type": "code",
   "execution_count": 153,
   "metadata": {},
   "outputs": [
    {
     "data": {
      "text/plain": [
       "{72: {'s': 63, 'w': '?'},\n",
       " 63: {'n': 72, 's': 20, 'w': '?'},\n",
       " 20: {'n': 63, 's': 19, 'e': '?', 'w': '?'},\n",
       " 19: {'n': 20, 's': 10, 'w': '?'},\n",
       " 10: {'n': 19, 's': 0, 'w': '?'},\n",
       " 0: {'n': 10, 's': 2, 'e': '?', 'w': '?'},\n",
       " 2: {'n': 0, 's': 6, 'e': '?'},\n",
       " 6: {'n': 2, 'w': 7},\n",
       " 7: {'n': 8, 'e': 6, 'w': '?'},\n",
       " 8: {'s': 7, 'w': '?'}}"
      ]
     },
     "execution_count": 153,
     "metadata": {},
     "output_type": "execute_result"
    }
   ],
   "source": [
    "player.playersMap"
   ]
  },
  {
   "cell_type": "code",
   "execution_count": null,
   "metadata": {},
   "outputs": [],
   "source": []
  }
 ],
 "metadata": {
  "kernelspec": {
   "display_name": "Python 3",
   "language": "python",
   "name": "python3"
  },
  "language_info": {
   "codemirror_mode": {
    "name": "ipython",
    "version": 3
   },
   "file_extension": ".py",
   "mimetype": "text/x-python",
   "name": "python",
   "nbconvert_exporter": "python",
   "pygments_lexer": "ipython3",
   "version": "3.7.4"
  }
 },
 "nbformat": 4,
 "nbformat_minor": 2
}
