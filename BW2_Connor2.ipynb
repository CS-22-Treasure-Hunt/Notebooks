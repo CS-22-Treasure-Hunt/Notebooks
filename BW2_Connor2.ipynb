{
 "cells": [
  {
   "cell_type": "code",
   "execution_count": 13,
   "metadata": {},
   "outputs": [],
   "source": [
    "import requests\n",
    "import time"
   ]
  },
  {
   "cell_type": "code",
   "execution_count": 1,
   "metadata": {},
   "outputs": [],
   "source": [
    "class Stack():\n",
    "    def __init__(self):\n",
    "        self.stack = []\n",
    "    def push(self, value):\n",
    "        self.stack.append(value)\n",
    "    def pop(self):\n",
    "        if self.size() > 0:\n",
    "            return self.stack.pop()\n",
    "        else:\n",
    "            return None\n",
    "    def size(self):\n",
    "        return len(self.stack)"
   ]
  },
  {
   "cell_type": "code",
   "execution_count": 2,
   "metadata": {},
   "outputs": [],
   "source": [
    "class Graph:\n",
    "    \"\"\"Represent a graph as a dictionary of vertices mapping labels to edges.\"\"\"\n",
    "    def __init__(self):\n",
    "        self.vertices = {}\n",
    "    def add_vertex(self, vertex):\n",
    "        \"\"\"\n",
    "        Add a vertex to the graph.\n",
    "        \"\"\"\n",
    "        self.vertices[vertex] = {}\n",
    "\n",
    "    def add_direcs(self, vertex, exits):\n",
    "        \"\"\"\n",
    "        Add a directed edge to the graph.\n",
    "        \"\"\"\n",
    "        for i in exits:\n",
    "            self.vertices[vertex].update({i:'?'})\n",
    "\n",
    "    def get_neighbors(self, vertex_id):\n",
    "        return self.vertices[vertex_id]"
   ]
  },
  {
   "cell_type": "code",
   "execution_count": 62,
   "metadata": {},
   "outputs": [],
   "source": [
    "# Utils\n",
    "inverseMap = {'n':'s', 's':'n', 'e':'w', 'w':'e'}"
   ]
  },
  {
   "cell_type": "code",
   "execution_count": 61,
   "metadata": {},
   "outputs": [],
   "source": [
    "setupTable = {\n",
    "    \"url\": 'https://lambda-treasure-hunt.herokuapp.com/api/',\n",
    "    \"token\": \"d2679616e63cea70c89ff019addc2677a27c9388\",\n",
    "    \"init\": 'adv/init/',\n",
    "    \"move\": 'adv/move/',\n",
    "}\n",
    "\n",
    "header={'Authorization': 'Token ' + setupTable['token']}\n",
    "init = setupTable['url'] + setupTable['init']\n",
    "move = setupTable['url'] + setupTable['move']"
   ]
  },
  {
   "cell_type": "code",
   "execution_count": 175,
   "metadata": {},
   "outputs": [],
   "source": [
    "class Player:\n",
    "    \n",
    "    def __init__(self):\n",
    "        self.response = requests.get(url=init, headers=header)\n",
    "        self.playersMap = {}\n",
    "        self.coolDown = None\n",
    "        self.currentRoomID = self.getCurrentRoomId()\n",
    "        self.previousRoomID = None\n",
    "        self.lastMoveDirection = None\n",
    "        \n",
    "        \n",
    "    def refresh(self):\n",
    "        self.response = requests.get(url=init, headers=header)\n",
    "        return self.response.json()\n",
    "    \n",
    "    def getRoomInfo(self):\n",
    "        if self.response.status_code == 200:\n",
    "            return self.response.json()\n",
    "        else:\n",
    "            print(f'Unsuccessful: {self.response.status_code}')\n",
    "            \n",
    "    def getCurrentRoomId(self):\n",
    "        if self.coolDown:\n",
    "            time.sleep(self.coolDown)\n",
    "        return self.getRoomInfo()['room_id']\n",
    "            \n",
    "    def writeNewRoomToMap(self):\n",
    "        if self.coolDown:\n",
    "            time.sleep(self.coolDown)\n",
    "        exits = self.getRoomInfo()['exits']\n",
    "        \n",
    "        if self.currentRoomID not in self.playersMap:\n",
    "            self.playersMap[self.currentRoomID] = {key: '?' for key in exits}\n",
    "            \n",
    "    def writeMoveDirectionsForCurrentAndPreviousRoom(self, previousRoomID, currentRoomID, direction):\n",
    "        self.playersMap[previousRoomID][direction] = self.currentRoomID\n",
    "        self.playersMap[currentRoomID][inverseMap[direction]] = self.previousRoomID\n",
    "    \n",
    "    def moveRoom(self, direction):\n",
    "        if self.currentRoomID in self.playersMap and self.playersMap[self.currentRoomID][direction] !='?':\n",
    "            print('Wise Explore')\n",
    "            \n",
    "            self.previousRoomID = self.currentRoomID\n",
    "            \n",
    "            nextRoom = self.playersMap[self.currentRoomID][direction]\n",
    "            postRequestBody = {\"direction\":direction, \"next_room_id\":str(nextRoom)}\n",
    "            self.response = requests.post(url=move, headers=header, json=postRequestBody)\n",
    "\n",
    "            self.currentRoomID = self.getCurrentRoomId()\n",
    "            self.coolDown = self.response.json()['cooldown']\n",
    "            self.lastMoveDirection = direction\n",
    "        \n",
    "        else:\n",
    "            print('Normal Explore')\n",
    "            self.previousRoomID = self.currentRoomID\n",
    "            \n",
    "            postRequestBody = {\"direction\":direction}\n",
    "            self.response = requests.post(url=move, headers=header, json=postRequestBody)\n",
    "            \n",
    "            self.currentRoomID = self.getCurrentRoomId()\n",
    "            \n",
    "            if self.response.status_code == 200:\n",
    "                self.coolDown = self.response.json()['cooldown']\n",
    "                self.lastMoveDirection = direction\n",
    "                \n",
    "                self.writeNewRoomToMap()\n",
    "                self.writeMoveDirectionsForCurrentAndPreviousRoom(self.previousRoomID, self.currentRoomID, direction)\n",
    "            else:\n",
    "                print(\"The move was not successful, check coolDown attribute or current room exits\")\n",
    "            \n",
    "        return self.getRoomInfo()\n",
    "                \n",
    "    \n",
    "    def findUnexploredRoom(self):\n",
    "        for direction in self.playersMap[self.currentRoomID]:\n",
    "            if self.playersMap[self.currentRoomID][direction] == '?':\n",
    "                return direction\n",
    "        return direction\n",
    "        \n",
    "        "
   ]
  },
  {
   "cell_type": "code",
   "execution_count": 176,
   "metadata": {},
   "outputs": [],
   "source": [
    "player = Player()"
   ]
  },
  {
   "cell_type": "markdown",
   "metadata": {},
   "source": [
    "# Main Function"
   ]
  },
  {
   "cell_type": "code",
   "execution_count": 177,
   "metadata": {},
   "outputs": [],
   "source": [
    "def exploreWorld(player):\n",
    "    \n",
    "    roomStack = Stack()\n",
    "    moveStack = Stack()\n",
    "    \n",
    "    roomStack.push(player.currentRoomID)\n",
    "    \n",
    "    roomSet = set()\n",
    "    \n",
    "    player.writeNewRoomToMap()\n",
    "    roomSet.add(player.currentRoomID)\n",
    "    \n",
    "    while roomStack.size() > 0:\n",
    "        \n",
    "        direction = player.findUnexploredRoom()\n",
    "        print(\"Direction\", direction)\n",
    "        \n",
    "        if player.playersMap[player.currentRoomID][direction] == '?':\n",
    "            \n",
    "            player.moveRoom(direction)\n",
    "            moveStack.push(direction)\n",
    "            \n",
    "            print(\"Our player has left room\"+str(player.previousRoomID)+\"and has entered room\"+str(player.currentRoomID))\n",
    "            \n",
    "            roomStack.push(player.currentRoomID)\n",
    "            \n",
    "            if player.currentRoomID not in roomSet:\n",
    "                roomSet.add(player.currentRoomID)\n",
    "            \n",
    "            if player.coolDown:\n",
    "                time.sleep(player.coolDown)\n",
    "        else:\n",
    "            print(\"roomStack:\", roomStack.stack)\n",
    "            print('moveStack:', moveStack.stack)\n",
    "            roomStack.pop()\n",
    "            lastMove = moveStack.pop()\n",
    "            \n",
    "            if roomStack.size() > 0:\n",
    "                player.previousRoomID = player.currentRoomID\n",
    "                player.moveRoom([inverseMap[lastMove]])\n",
    "                player.lastMoveDirection = moveStack[-1]\n",
    "            if player.coolDown: \n",
    "                time.sleep(player.coolDown)\n",
    "                \n",
    "    return \"You have traversed the world!\"\n",
    "        "
   ]
  },
  {
   "cell_type": "code",
   "execution_count": 178,
   "metadata": {},
   "outputs": [
    {
     "name": "stdout",
     "output_type": "stream",
     "text": [
      "Direction s\n",
      "Normal Explore\n",
      "Our player has left room87and has entered room74\n",
      "Direction s\n",
      "Normal Explore\n",
      "Our player has left room74and has entered room65\n",
      "Direction e\n",
      "Normal Explore\n",
      "Our player has left room65and has entered room58\n",
      "Direction s\n",
      "Normal Explore\n",
      "Our player has left room58and has entered room16\n",
      "Direction e\n",
      "Normal Explore\n",
      "Our player has left room16and has entered room8\n",
      "Direction s\n",
      "Normal Explore\n",
      "Our player has left room8and has entered room7\n",
      "Direction e\n",
      "Normal Explore\n",
      "Our player has left room7and has entered room6\n",
      "Direction n\n",
      "Normal Explore\n",
      "Unsuccessful: 400\n"
     ]
    },
    {
     "ename": "TypeError",
     "evalue": "'NoneType' object is not subscriptable",
     "output_type": "error",
     "traceback": [
      "\u001b[0;31m---------------------------------------------------------------------------\u001b[0m",
      "\u001b[0;31mTypeError\u001b[0m                                 Traceback (most recent call last)",
      "\u001b[0;32m<ipython-input-178-0d43fb3018ee>\u001b[0m in \u001b[0;36m<module>\u001b[0;34m\u001b[0m\n\u001b[0;32m----> 1\u001b[0;31m \u001b[0mexploreWorld\u001b[0m\u001b[0;34m(\u001b[0m\u001b[0mplayer\u001b[0m\u001b[0;34m)\u001b[0m\u001b[0;34m\u001b[0m\u001b[0;34m\u001b[0m\u001b[0m\n\u001b[0m",
      "\u001b[0;32m<ipython-input-177-3cd31333ee97>\u001b[0m in \u001b[0;36mexploreWorld\u001b[0;34m(player)\u001b[0m\n\u001b[1;32m     18\u001b[0m         \u001b[0;32mif\u001b[0m \u001b[0mplayer\u001b[0m\u001b[0;34m.\u001b[0m\u001b[0mplayersMap\u001b[0m\u001b[0;34m[\u001b[0m\u001b[0mplayer\u001b[0m\u001b[0;34m.\u001b[0m\u001b[0mcurrentRoomID\u001b[0m\u001b[0;34m]\u001b[0m\u001b[0;34m[\u001b[0m\u001b[0mdirection\u001b[0m\u001b[0;34m]\u001b[0m \u001b[0;34m==\u001b[0m \u001b[0;34m'?'\u001b[0m\u001b[0;34m:\u001b[0m\u001b[0;34m\u001b[0m\u001b[0;34m\u001b[0m\u001b[0m\n\u001b[1;32m     19\u001b[0m \u001b[0;34m\u001b[0m\u001b[0m\n\u001b[0;32m---> 20\u001b[0;31m             \u001b[0mplayer\u001b[0m\u001b[0;34m.\u001b[0m\u001b[0mmoveRoom\u001b[0m\u001b[0;34m(\u001b[0m\u001b[0mdirection\u001b[0m\u001b[0;34m)\u001b[0m\u001b[0;34m\u001b[0m\u001b[0;34m\u001b[0m\u001b[0m\n\u001b[0m\u001b[1;32m     21\u001b[0m             \u001b[0mmoveStack\u001b[0m\u001b[0;34m.\u001b[0m\u001b[0mpush\u001b[0m\u001b[0;34m(\u001b[0m\u001b[0mdirection\u001b[0m\u001b[0;34m)\u001b[0m\u001b[0;34m\u001b[0m\u001b[0;34m\u001b[0m\u001b[0m\n\u001b[1;32m     22\u001b[0m \u001b[0;34m\u001b[0m\u001b[0m\n",
      "\u001b[0;32m<ipython-input-175-f7224840d4f8>\u001b[0m in \u001b[0;36mmoveRoom\u001b[0;34m(self, direction)\u001b[0m\n\u001b[1;32m     58\u001b[0m             \u001b[0mself\u001b[0m\u001b[0;34m.\u001b[0m\u001b[0mresponse\u001b[0m \u001b[0;34m=\u001b[0m \u001b[0mrequests\u001b[0m\u001b[0;34m.\u001b[0m\u001b[0mpost\u001b[0m\u001b[0;34m(\u001b[0m\u001b[0murl\u001b[0m\u001b[0;34m=\u001b[0m\u001b[0mmove\u001b[0m\u001b[0;34m,\u001b[0m \u001b[0mheaders\u001b[0m\u001b[0;34m=\u001b[0m\u001b[0mheader\u001b[0m\u001b[0;34m,\u001b[0m \u001b[0mjson\u001b[0m\u001b[0;34m=\u001b[0m\u001b[0mpostRequestBody\u001b[0m\u001b[0;34m)\u001b[0m\u001b[0;34m\u001b[0m\u001b[0;34m\u001b[0m\u001b[0m\n\u001b[1;32m     59\u001b[0m \u001b[0;34m\u001b[0m\u001b[0m\n\u001b[0;32m---> 60\u001b[0;31m             \u001b[0mself\u001b[0m\u001b[0;34m.\u001b[0m\u001b[0mcurrentRoomID\u001b[0m \u001b[0;34m=\u001b[0m \u001b[0mself\u001b[0m\u001b[0;34m.\u001b[0m\u001b[0mgetCurrentRoomId\u001b[0m\u001b[0;34m(\u001b[0m\u001b[0;34m)\u001b[0m\u001b[0;34m\u001b[0m\u001b[0;34m\u001b[0m\u001b[0m\n\u001b[0m\u001b[1;32m     61\u001b[0m \u001b[0;34m\u001b[0m\u001b[0m\n\u001b[1;32m     62\u001b[0m             \u001b[0;32mif\u001b[0m \u001b[0mself\u001b[0m\u001b[0;34m.\u001b[0m\u001b[0mresponse\u001b[0m\u001b[0;34m.\u001b[0m\u001b[0mstatus_code\u001b[0m \u001b[0;34m==\u001b[0m \u001b[0;36m200\u001b[0m\u001b[0;34m:\u001b[0m\u001b[0;34m\u001b[0m\u001b[0;34m\u001b[0m\u001b[0m\n",
      "\u001b[0;32m<ipython-input-175-f7224840d4f8>\u001b[0m in \u001b[0;36mgetCurrentRoomId\u001b[0;34m(self)\u001b[0m\n\u001b[1;32m     23\u001b[0m         \u001b[0;32mif\u001b[0m \u001b[0mself\u001b[0m\u001b[0;34m.\u001b[0m\u001b[0mcoolDown\u001b[0m\u001b[0;34m:\u001b[0m\u001b[0;34m\u001b[0m\u001b[0;34m\u001b[0m\u001b[0m\n\u001b[1;32m     24\u001b[0m             \u001b[0mtime\u001b[0m\u001b[0;34m.\u001b[0m\u001b[0msleep\u001b[0m\u001b[0;34m(\u001b[0m\u001b[0mself\u001b[0m\u001b[0;34m.\u001b[0m\u001b[0mcoolDown\u001b[0m\u001b[0;34m)\u001b[0m\u001b[0;34m\u001b[0m\u001b[0;34m\u001b[0m\u001b[0m\n\u001b[0;32m---> 25\u001b[0;31m         \u001b[0;32mreturn\u001b[0m \u001b[0mself\u001b[0m\u001b[0;34m.\u001b[0m\u001b[0mgetRoomInfo\u001b[0m\u001b[0;34m(\u001b[0m\u001b[0;34m)\u001b[0m\u001b[0;34m[\u001b[0m\u001b[0;34m'room_id'\u001b[0m\u001b[0;34m]\u001b[0m\u001b[0;34m\u001b[0m\u001b[0;34m\u001b[0m\u001b[0m\n\u001b[0m\u001b[1;32m     26\u001b[0m \u001b[0;34m\u001b[0m\u001b[0m\n\u001b[1;32m     27\u001b[0m     \u001b[0;32mdef\u001b[0m \u001b[0mwriteNewRoomToMap\u001b[0m\u001b[0;34m(\u001b[0m\u001b[0mself\u001b[0m\u001b[0;34m)\u001b[0m\u001b[0;34m:\u001b[0m\u001b[0;34m\u001b[0m\u001b[0;34m\u001b[0m\u001b[0m\n",
      "\u001b[0;31mTypeError\u001b[0m: 'NoneType' object is not subscriptable"
     ]
    }
   ],
   "source": [
    "exploreWorld(player)"
   ]
  },
  {
   "cell_type": "code",
   "execution_count": 182,
   "metadata": {},
   "outputs": [
    {
     "name": "stdout",
     "output_type": "stream",
     "text": [
      "Unsuccessful: 400\n"
     ]
    }
   ],
   "source": [
    "player.getRoomInfo()"
   ]
  },
  {
   "cell_type": "code",
   "execution_count": 184,
   "metadata": {},
   "outputs": [
    {
     "data": {
      "text/plain": [
       "6"
      ]
     },
     "execution_count": 184,
     "metadata": {},
     "output_type": "execute_result"
    }
   ],
   "source": [
    "player.currentRoomID"
   ]
  },
  {
   "cell_type": "code",
   "execution_count": 168,
   "metadata": {},
   "outputs": [],
   "source": [
    "player=Player()"
   ]
  },
  {
   "cell_type": "code",
   "execution_count": null,
   "metadata": {},
   "outputs": [],
   "source": []
  }
 ],
 "metadata": {
  "kernelspec": {
   "display_name": "Python 3",
   "language": "python",
   "name": "python3"
  },
  "language_info": {
   "codemirror_mode": {
    "name": "ipython",
    "version": 3
   },
   "file_extension": ".py",
   "mimetype": "text/x-python",
   "name": "python",
   "nbconvert_exporter": "python",
   "pygments_lexer": "ipython3",
   "version": "3.7.4"
  }
 },
 "nbformat": 4,
 "nbformat_minor": 2
}
