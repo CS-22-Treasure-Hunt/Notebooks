{
 "cells": [
  {
   "cell_type": "markdown",
   "metadata": {},
   "source": [
    "# Getting Started"
   ]
  },
  {
   "cell_type": "markdown",
   "metadata": {},
   "source": [
    "Go to the setupTable and input your unique token\n",
    "\n",
    "DO NOT USE MY KEY (Blake)"
   ]
  },
  {
   "cell_type": "code",
   "execution_count": 1,
   "metadata": {},
   "outputs": [],
   "source": [
    "import requests\n",
    "import time"
   ]
  },
  {
   "cell_type": "code",
   "execution_count": 2,
   "metadata": {},
   "outputs": [],
   "source": [
    "class Stack():\n",
    "    def __init__(self):\n",
    "        self.stack = []\n",
    "    def push(self, value):\n",
    "        self.stack.append(value)\n",
    "    def pop(self):\n",
    "        if self.size() > 0:\n",
    "            return self.stack.pop()\n",
    "        else:\n",
    "            return None\n",
    "    def size(self):\n",
    "        return len(self.stack)"
   ]
  },
  {
   "cell_type": "code",
   "execution_count": 4,
   "metadata": {},
   "outputs": [],
   "source": [
    "# Utils\n",
    "inverseMap = {'n':'s', 's':'n', 'e':'w', 'w':'e'}"
   ]
  },
  {
   "cell_type": "code",
   "execution_count": 6,
   "metadata": {},
   "outputs": [],
   "source": [
    "setupTable = {\n",
    "    \"url\": 'https://lambda-treasure-hunt.herokuapp.com/api/',\n",
    "    \"token\": \"d2679616e63cea70c89ff019addc2677a27c9388\",\n",
    "    \"init\": 'adv/init/',\n",
    "    \"move\": 'adv/move/',\n",
    "    \"take\": 'adv/take/'\n",
    "}\n",
    "header={'Authorization': 'Token ' + setupTable['token']}\n",
    "init = setupTable['url'] + setupTable['init']\n",
    "move = setupTable['url'] + setupTable['move']\n",
    "take = setupTable['url'] + setupTable['take']"
   ]
  },
  {
   "cell_type": "code",
   "execution_count": 160,
   "metadata": {},
   "outputs": [],
   "source": [
    "class Player:\n",
    "    \n",
    "    def __init__(self):\n",
    "        self.initResponse = requests.get(url=init, headers=header)\n",
    "        self.playersMap = {}\n",
    "        self.coolDown = None\n",
    "        self.currentRoomID = None\n",
    "        self.previousRoomID = None\n",
    "        self.lastMoveDirection = None\n",
    "        self.playerItems = []\n",
    "        \n",
    "        self.currentRoomInfo = None\n",
    "        \n",
    "    def getRoomInfo(self):\n",
    "        response = requests.get(url=init, headers=header)\n",
    "        time.sleep(3)\n",
    "        \n",
    "        if response.status_code == 200:\n",
    "            return response.json()\n",
    "        else:\n",
    "            print(response.json())\n",
    "            print(f'400 status code at getRoomInfo method {response.status_code}')\n",
    "            \n",
    "    def getCurrentRoomID(self):\n",
    "        return self.currentRoomInfo['room_id']\n",
    "            \n",
    "    def writeNewRoomToMap(self):\n",
    "        exits = self.currentRoomInfo['exits']\n",
    "        \n",
    "        if self.currentRoomID not in self.playersMap:\n",
    "            self.playersMap[self.currentRoomID] = {key: '?' for key in exits}\n",
    "            \n",
    "    def writeMoveDirectionsForCurrentAndPreviousRoom(self, previousRoomID, currentRoomID, direction):\n",
    "        self.playersMap[previousRoomID][direction] = self.currentRoomID\n",
    "        self.playersMap[currentRoomID][inverseMap[direction]] = self.previousRoomID\n",
    "        \n",
    "    def moveRoom(self, direction):\n",
    "        if self.currentRoomID in self.playersMap and self.playersMap[self.currentRoomID][direction] !='?':\n",
    "            print(\"Wise Explore\")\n",
    "            \n",
    "            self.previousRoomID = self.currentRoomID\n",
    "            \n",
    "            nextRoom = self.playersMap[self.currentRoomID][direction]\n",
    "            \n",
    "            postRequestBody = {\"direction\":direction, \"next_room_id\":str(nextRoom)}\n",
    "            response = requests.post(url=move, headers=header, json=postRequestBody)\n",
    "            self.currentRoomInfo = response.json()\n",
    "            self.coolDown = response.json()['cooldown']\n",
    "            \n",
    "            time.sleep(self.coolDown)\n",
    "            self.currentRoomID = self.getCurrentRoomID()\n",
    "            self.lastMoveDirection = direction\n",
    "            \n",
    "        else:\n",
    "            print('Normal Explore')\n",
    "            self.previousRoomID = self.currentRoomID\n",
    "            \n",
    "            postRequestBody = {\"direction\":direction}\n",
    "            response = requests.post(url=move, headers=header, json=postRequestBody)\n",
    "\n",
    "            self.currentRoomInfo = response.json()\n",
    "            self.currentRoomID = self.getCurrentRoomID()\n",
    "            \n",
    "            if response.status_code == 200:\n",
    "                self.coolDown = response.json()['cooldown']\n",
    "                time.sleep(self.coolDown)\n",
    "                \n",
    "                self.lastMoveDirection = direction\n",
    "                \n",
    "                self.writeNewRoomToMap()\n",
    "                self.writeMoveDirectionsForCurrentAndPreviousRoom(self.previousRoomID, self.currentRoomID, direction)\n",
    "            else:\n",
    "                print(\"The move was not a success\")\n",
    "                \n",
    "        return self.getRoomInfo()\n",
    "    \n",
    "    def findUnexploredRoom(self):\n",
    "        for direction in self.playersMap[self.currentRoomID]:\n",
    "            if self.playersMap[self.currentRoomID][direction] == '?':\n",
    "                return direction\n",
    "        return direction\n",
    "    \n",
    "    def takeItem(self, itemName):\n",
    "        postRequestBody = {'name': itemName}\n",
    "        response = requests.post(url=move, headers=header, json=postRequestBody)\n",
    "        self.coolDown = response.json()['cooldown']\n",
    "        \n",
    "        self.playerItems.append(itemName)\n",
    "        print(\"You have picked up \", itemName)\n",
    "        \n",
    "    def dropItem(self, itemName):\n",
    "        pass\n",
    "        \n",
    "    def checkInventory(self):\n",
    "        print(self.playerItems)\n",
    "    "
   ]
  },
  {
   "cell_type": "code",
   "execution_count": 174,
   "metadata": {},
   "outputs": [],
   "source": [
    "def exploreWorld(player):\n",
    "    print('Initializing...')\n",
    "    \n",
    "    roomStack = Stack()\n",
    "    moveStack = Stack()\n",
    "    \n",
    "\n",
    "    player.currentRoomInfo = player.getRoomInfo()\n",
    "    print('Loading currentRoomInfo')\n",
    "    time.sleep(5)\n",
    "    \n",
    "    player.currentRoomID = player.currentRoomInfo['room_id']\n",
    "    player.writeNewRoomToMap()\n",
    "    \n",
    "    roomStack.push(player.currentRoomID)\n",
    "    \n",
    "    roomDict = {}\n",
    "    roomDict[player.currentRoomID] = player.currentRoomInfo\n",
    "    \n",
    "    while roomStack.size() > 0:\n",
    "        \n",
    "        direction = player.findUnexploredRoom()\n",
    "        print(\"Direction\", direction)\n",
    "        \n",
    "        if player.playersMap[player.currentRoomID][direction] == '?':\n",
    "            \n",
    "            \n",
    "            player.moveRoom(direction)\n",
    "            moveStack.push(direction)\n",
    "            \n",
    "            print(\"Leaving room: \"+str(player.previousRoomID)+\" entering room: \"+str(player.currentRoomID))\n",
    "            \n",
    "            roomStack.push(player.currentRoomID)\n",
    "            \n",
    "            if player.currentRoomID not in roomDict:\n",
    "                roomDict[player.currentRoomID] = player.currentRoomInfo\n",
    "                \n",
    "        else:\n",
    "            print(\"roomStack:\", roomStack.stack)\n",
    "            print('moveStack:', moveStack.stack)\n",
    "            roomStack.pop()\n",
    "            lastMove = moveStack.stack[-1]\n",
    "            backTrackingDirection = inverseMap[lastMove]\n",
    "            \n",
    "            if roomStack.size() > 0:\n",
    "                player.previousRoomID = player.currentRoomID\n",
    "                player.moveRoom(backTrackingDirection)\n",
    "                player.lastMoveDirection = moveStack.stack[-1] \n",
    "                \n",
    "            moveStack.pop()\n",
    "                \n",
    "    return \"You have traversed the world!\"\n",
    "                \n",
    "            "
   ]
  },
  {
   "cell_type": "code",
   "execution_count": 175,
   "metadata": {},
   "outputs": [],
   "source": [
    "player = Player()"
   ]
  },
  {
   "cell_type": "code",
   "execution_count": null,
   "metadata": {},
   "outputs": [
    {
     "name": "stdout",
     "output_type": "stream",
     "text": [
      "Initializing...\n",
      "Loading currentRoomInfo\n",
      "Direction w\n",
      "Normal Explore\n",
      "Our player has left room: 483and has entered room: 477\n",
      "Direction w\n",
      "Normal Explore\n",
      "Our player has left room: 477and has entered room: 388\n",
      "Direction w\n",
      "Normal Explore\n",
      "Our player has left room: 388and has entered room: 382\n",
      "Direction s\n",
      "Normal Explore\n",
      "Our player has left room: 382and has entered room: 322\n",
      "Direction e\n",
      "Normal Explore\n",
      "Our player has left room: 322and has entered room: 435\n",
      "Direction w\n",
      "roomStack: [483, 477, 388, 382, 322, 435]\n",
      "moveStack: ['w', 'w', 'w', 's', 'e']\n",
      "Wise Explore\n",
      "Direction w\n",
      "Normal Explore\n",
      "Our player has left room: 322and has entered room: 261\n",
      "Direction s\n",
      "Normal Explore\n",
      "Our player has left room: 261and has entered room: 277\n",
      "Direction e\n",
      "Normal Explore\n",
      "Our player has left room: 277and has entered room: 323\n",
      "Direction e\n",
      "Normal Explore\n",
      "Our player has left room: 323and has entered room: 433\n",
      "Direction s\n",
      "Normal Explore\n",
      "Our player has left room: 433and has entered room: 455\n",
      "Direction n\n",
      "roomStack: [483, 477, 388, 382, 322, 261, 277, 323, 433, 455]\n",
      "moveStack: ['w', 'w', 'w', 's', 'w', 's', 'e', 'e', 's']\n",
      "Wise Explore\n",
      "Direction e\n",
      "Normal Explore\n",
      "Our player has left room: 433and has entered room: 460\n",
      "Direction w\n",
      "roomStack: [483, 477, 388, 382, 322, 261, 277, 323, 433, 460]\n",
      "moveStack: ['w', 'w', 'w', 's', 'w', 's', 'e', 'e', 'e']\n",
      "Wise Explore\n",
      "Direction w\n",
      "roomStack: [483, 477, 388, 382, 322, 261, 277, 323, 433]\n",
      "moveStack: ['w', 'w', 'w', 's', 'w', 's', 'e', 'e']\n",
      "Wise Explore\n",
      "Direction w\n",
      "roomStack: [483, 477, 388, 382, 322, 261, 277, 323]\n",
      "moveStack: ['w', 'w', 'w', 's', 'w', 's', 'e']\n",
      "Wise Explore\n",
      "Direction e\n",
      "roomStack: [483, 477, 388, 382, 322, 261, 277]\n",
      "moveStack: ['w', 'w', 'w', 's', 'w', 's']\n",
      "Wise Explore\n",
      "Direction w\n",
      "Normal Explore\n",
      "Our player has left room: 261and has entered room: 247\n",
      "Direction w\n",
      "Normal Explore\n",
      "Our player has left room: 247and has entered room: 217\n",
      "Direction s\n",
      "Normal Explore\n",
      "Our player has left room: 217and has entered room: 164\n",
      "Direction e\n",
      "Normal Explore\n",
      "Our player has left room: 164and has entered room: 298\n",
      "Direction s\n",
      "Normal Explore\n",
      "Our player has left room: 298and has entered room: 324\n",
      "Direction s\n",
      "Normal Explore\n",
      "Our player has left room: 324and has entered room: 349\n",
      "Direction s\n",
      "Normal Explore\n"
     ]
    }
   ],
   "source": [
    "exploreWorld(player)"
   ]
  },
  {
   "cell_type": "code",
   "execution_count": 167,
   "metadata": {},
   "outputs": [
    {
     "name": "stdout",
     "output_type": "stream",
     "text": [
      "e\n"
     ]
    }
   ],
   "source": [
    "stack = ['e']\n",
    "print(stack[-1])"
   ]
  },
  {
   "cell_type": "code",
   "execution_count": 95,
   "metadata": {},
   "outputs": [
    {
     "data": {
      "text/plain": [
       "{477: {'e': '?', 'w': '?'}}"
      ]
     },
     "execution_count": 95,
     "metadata": {},
     "output_type": "execute_result"
    }
   ],
   "source": [
    "player.playersMap"
   ]
  },
  {
   "cell_type": "code",
   "execution_count": 96,
   "metadata": {},
   "outputs": [
    {
     "name": "stdout",
     "output_type": "stream",
     "text": [
      "Normal Explore\n",
      "{'room_id': 483, 'title': 'A misty room', 'description': 'You are standing on grass and surrounded by a dense mist. You can barely make out the exits in any direction.', 'coordinates': '(73,55)', 'elevation': 0, 'terrain': 'NORMAL', 'players': [], 'items': ['tiny treasure'], 'exits': ['w'], 'cooldown': 1.0, 'errors': [], 'messages': []}\n",
      "400 status code at getRoomInfo method 400\n"
     ]
    }
   ],
   "source": [
    "player.moveRoom('e')"
   ]
  },
  {
   "cell_type": "code",
   "execution_count": 145,
   "metadata": {},
   "outputs": [
    {
     "data": {
      "text/plain": [
       "{'room_id': 483,\n",
       " 'title': 'A misty room',\n",
       " 'description': 'You are standing on grass and surrounded by a dense mist. You can barely make out the exits in any direction.',\n",
       " 'coordinates': '(73,55)',\n",
       " 'elevation': 0,\n",
       " 'terrain': 'NORMAL',\n",
       " 'players': [],\n",
       " 'items': ['tiny treasure'],\n",
       " 'exits': ['w'],\n",
       " 'cooldown': 1.0,\n",
       " 'errors': [],\n",
       " 'messages': []}"
      ]
     },
     "execution_count": 145,
     "metadata": {},
     "output_type": "execute_result"
    }
   ],
   "source": [
    "player.getRoomInfo()"
   ]
  },
  {
   "cell_type": "code",
   "execution_count": 78,
   "metadata": {},
   "outputs": [
    {
     "data": {
      "text/plain": [
       "388"
      ]
     },
     "execution_count": 78,
     "metadata": {},
     "output_type": "execute_result"
    }
   ],
   "source": [
    "player.currentRoomID"
   ]
  },
  {
   "cell_type": "code",
   "execution_count": null,
   "metadata": {},
   "outputs": [],
   "source": []
  }
 ],
 "metadata": {
  "kernelspec": {
   "display_name": "Python 3",
   "language": "python",
   "name": "python3"
  },
  "language_info": {
   "codemirror_mode": {
    "name": "ipython",
    "version": 3
   },
   "file_extension": ".py",
   "mimetype": "text/x-python",
   "name": "python",
   "nbconvert_exporter": "python",
   "pygments_lexer": "ipython3",
   "version": "3.7.4"
  }
 },
 "nbformat": 4,
 "nbformat_minor": 2
}
