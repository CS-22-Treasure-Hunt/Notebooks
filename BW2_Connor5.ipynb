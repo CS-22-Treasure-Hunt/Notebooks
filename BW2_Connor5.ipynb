{
 "cells": [
  {
   "cell_type": "markdown",
   "metadata": {},
   "source": [
    "# Getting Started"
   ]
  },
  {
   "cell_type": "markdown",
   "metadata": {},
   "source": [
    "Go to the setupTable and input your unique token\n",
    "\n",
    "DO NOT USE MY KEY (Blake)"
   ]
  },
  {
   "cell_type": "markdown",
   "metadata": {},
   "source": [
    "## Shift enter through initialize"
   ]
  },
  {
   "cell_type": "code",
   "execution_count": 6,
   "metadata": {},
   "outputs": [],
   "source": [
    "import requests\n",
    "import time\n",
    "import json"
   ]
  },
  {
   "cell_type": "code",
   "execution_count": 7,
   "metadata": {},
   "outputs": [],
   "source": [
    "class Stack():\n",
    "    def __init__(self):\n",
    "        self.stack = []\n",
    "    def push(self, value):\n",
    "        self.stack.append(value)\n",
    "    def pop(self):\n",
    "        if self.size() > 0:\n",
    "            return self.stack.pop()\n",
    "        else:\n",
    "            return None\n",
    "    def size(self):\n",
    "        return len(self.stack)"
   ]
  },
  {
   "cell_type": "code",
   "execution_count": 8,
   "metadata": {},
   "outputs": [],
   "source": [
    "class Queue():\n",
    "    def __init__(self):\n",
    "        self.queue = []\n",
    "    def enqueue(self, value):\n",
    "        self.queue.append(value)\n",
    "    def dequeue(self):\n",
    "        if self.size() > 0:\n",
    "            return self.queue.pop(0)\n",
    "        else:\n",
    "            return None\n",
    "    def size(self):\n",
    "        return len(self.queue)"
   ]
  },
  {
   "cell_type": "code",
   "execution_count": 9,
   "metadata": {},
   "outputs": [],
   "source": [
    "# Import map and room info\n",
    "with open('worldMap.json', 'r') as f:\n",
    "    worldMap = json.load(f)\n",
    "    \n",
    "with open('worldRoomIndex.json', 'r') as f:\n",
    "    worldRoomIndex = json.load(f)"
   ]
  },
  {
   "cell_type": "code",
   "execution_count": 10,
   "metadata": {},
   "outputs": [],
   "source": [
    "# Utils\n",
    "inverseMap = {'n':'s', 's':'n', 'e':'w', 'w':'e'}"
   ]
  },
  {
   "cell_type": "markdown",
   "metadata": {},
   "source": [
    "## Input unique token key here"
   ]
  },
  {
   "cell_type": "code",
   "execution_count": 11,
   "metadata": {},
   "outputs": [],
   "source": [
    "setupTable = {\n",
    "    \"url\": 'https://lambda-treasure-hunt.herokuapp.com/api/',\n",
    "    \"token\": \"d2679616e63cea70c89ff019addc2677a27c9388\",\n",
    "    \"init\": 'adv/init/',\n",
    "    \"move\": 'adv/move/',\n",
    "    \"take\": 'adv/take/',\n",
    "    \"sell\": 'adv/sell/',\n",
    "    \"drop\": 'adv/drop/',\n",
    "    \"checkStatus\": 'adv/status/',\n",
    "    \"examine\": 'adv/examine/',\n",
    "    \"wearItem\": 'adv/wear/',\n",
    "    \"removeItem\": 'adv/undress/',\n",
    "    \"nameChange\": 'adv/change_name/',\n",
    "    \"pray\": 'adv/pray/',\n",
    "    \"fly\": 'adv/fly/',\n",
    "    \"dash\": 'adv/dash/',\n",
    "    \"companionLetCarry\": 'adv/carry/',\n",
    "    \"companionReceiveBack\":  'adv/receive/',\n",
    "    \"lambdaCoinMine\": 'bc/mine/'\n",
    "    \n",
    "}\n",
    "header={'Authorization': 'Token ' + setupTable['token']}\n",
    "init = setupTable['url'] + setupTable['init']\n",
    "move = setupTable['url'] + setupTable['move']\n",
    "take = setupTable['url'] + setupTable['take']\n",
    "sell = setupTable['url'] + setupTable['sell']\n",
    "drop = setupTable['url'] + setupTable['drop']\n",
    "checkStatus = setupTable['url'] + setupTable['checkStatus']\n",
    "examine = setupTable['url'] + setupTable['examine']\n",
    "wearItem = setupTable['url'] + setupTable['wearItem']\n",
    "removeItem = setupTable['url'] + setupTable['removeItem']\n",
    "nameChange = setupTable['url'] + setupTable['nameChange']\n",
    "pray = setupTable['url'] + setupTable['pray']\n",
    "fly = setupTable['url'] + setupTable['fly']\n",
    "dash = setupTable['url'] + setupTable['dash']\n",
    "companionLetCarry = setupTable['url'] + setupTable['companionLetCarry']\n",
    "companionReceiveBack = setupTable['url'] + setupTable['companionReceiveBack']\n",
    "lambdaCoinMine = setupTable['url'] + setupTable['lambdaCoinMine']"
   ]
  },
  {
   "cell_type": "code",
   "execution_count": 169,
   "metadata": {},
   "outputs": [],
   "source": [
    "class Player:\n",
    "    \n",
    "    def __init__(self):\n",
    "        self.initResponse = requests.get(url=init, headers=header)\n",
    "        self.playersMap = worldMap\n",
    "        self.coolDown = None\n",
    "        self.currentRoomID = None\n",
    "        self.previousRoomID = None\n",
    "        self.lastMoveDirection = None\n",
    "        self.currentRoomInfo = None\n",
    "        \n",
    "        self.status = None\n",
    "        self.inventory = None\n",
    "\n",
    "        \n",
    "    def getRoomInfo(self):\n",
    "        time.sleep(1)\n",
    "        response = requests.get(url=init, headers=header)\n",
    "        \n",
    "        if response.status_code == 200:\n",
    "            return response.json()\n",
    "        else:\n",
    "            print(response.json())\n",
    "            print(f'400 status code at getRoomInfo method {response.status_code}')\n",
    "            \n",
    "    def assignCurrentRoomInfo(self):\n",
    "        self.currentRoomInfo = self.getRoomInfo()\n",
    "        \n",
    "    def assignCurrentRoomID(self):\n",
    "        self.currentRoomID = self.getCurrentRoomID()\n",
    "            \n",
    "    def getCurrentRoomID(self):\n",
    "        return self.currentRoomInfo['room_id']\n",
    "            \n",
    "    def writeNewRoomToMap(self):\n",
    "        exits = self.currentRoomInfo['exits']\n",
    "        \n",
    "        if self.currentRoomID not in self.playersMap:\n",
    "            self.playersMap[self.currentRoomID] = {key: '?' for key in exits}\n",
    "            \n",
    "    def writeMoveDirectionsForCurrentAndPreviousRoom(self, previousRoomID, currentRoomID, direction):\n",
    "        self.playersMap[previousRoomID][direction] = self.currentRoomID\n",
    "        self.playersMap[currentRoomID][inverseMap[direction]] = self.previousRoomID\n",
    "        \n",
    "    def moveRoom(self, direction):\n",
    "        if str(self.currentRoomID) in self.playersMap and self.playersMap[str(self.currentRoomID)][direction] !='?':\n",
    "            print(\"Wise Explore\")\n",
    "            \n",
    "            self.previousRoomID = self.currentRoomID\n",
    "            \n",
    "            nextRoom = self.playersMap[str(self.currentRoomID)][direction]\n",
    "            \n",
    "            postRequestBody = {\"direction\":direction, \"next_room_id\":str(nextRoom)}\n",
    "            response = requests.post(url=move, headers=header, json=postRequestBody)\n",
    "            self.currentRoomInfo = response.json()\n",
    "            self.coolDown = response.json()['cooldown']\n",
    "            \n",
    "            time.sleep(self.coolDown)\n",
    "            self.currentRoomID = self.getCurrentRoomID()\n",
    "            self.lastMoveDirection = direction\n",
    "            \n",
    "        else:\n",
    "            print('Normal Explore')\n",
    "            self.previousRoomID = self.currentRoomID\n",
    "            \n",
    "            postRequestBody = {\"direction\":direction}\n",
    "            response = requests.post(url=move, headers=header, json=postRequestBody)\n",
    "\n",
    "            self.currentRoomInfo = response.json()\n",
    "            self.currentRoomID = self.getCurrentRoomID()\n",
    "            \n",
    "            if response.status_code == 200:\n",
    "                self.coolDown = response.json()['cooldown']\n",
    "                time.sleep(self.coolDown)\n",
    "                \n",
    "                self.lastMoveDirection = direction\n",
    "                \n",
    "                self.writeNewRoomToMap()\n",
    "                self.writeMoveDirectionsForCurrentAndPreviousRoom(self.previousRoomID, self.currentRoomID, direction)\n",
    "            else:\n",
    "                print(\"The move was not a success\")\n",
    "                \n",
    "        return self.getRoomInfo()\n",
    "    \n",
    "    def findUnexploredRoom(self):\n",
    "        for direction in self.playersMap[self.currentRoomID]:\n",
    "            if self.playersMap[self.currentRoomID][direction] == '?':\n",
    "                return direction\n",
    "        return direction\n",
    "    \n",
    "    def takeItem(self):\n",
    "        itemName = self.currentRoomInfo['items']\n",
    "        for items in itemName:\n",
    "            postRequestBody = {\"name\": items}\n",
    "            response = requests.post(url=take, headers=header, json=postRequestBody)\n",
    "            \n",
    "            self.coolDown = response.json()['cooldown']\n",
    "            print(\"Cooling down for :\"+ str(self.coolDown)+\"seconds\")\n",
    "            time.sleep(self.coolDown)\n",
    "        print(\"You have picked up \", itemName)\n",
    "        \n",
    "    def dropItem(self, itemName):\n",
    "        pass\n",
    "    \n",
    "    def sellItem(self):\n",
    "        self.checkPlayerStatus()\n",
    "        time.sleep(2)\n",
    "        if self.inventory:\n",
    "            for item in self.inventory:\n",
    "                postRequestBody = {\"name\": item, \"confirm\":\"yes\"}\n",
    "                response = requests.post(url=sell, headers=header, json=postRequestBody)\n",
    "                self.coolDown = response.json()['cooldown']\n",
    "                time.sleep(self.coolDown)\n",
    "                print(\"You have sold: \", item)\n",
    "                \n",
    "    def changeName(self):\n",
    "        postRequestBody = {\"name\": \"[CPHACHE]\", \"confirm\":\"aye\"}\n",
    "        response= requests.post(url=nameChange, headers=header, json=postRequestBody)\n",
    "        \n",
    "        print(response)\n",
    "        print(response.json())\n",
    "        \n",
    "    \n",
    "    def checkPlayerStatus(self):\n",
    "        response = requests.post(url=checkStatus, headers=header)\n",
    "        self.status = response.json()\n",
    "        self.coolDown = response.json()['cooldown']\n",
    "        \n",
    "        if response.json()['inventory']:\n",
    "            self.inventory = response.json()['inventory']\n",
    "            \n",
    "        time.sleep(self.coolDown)\n",
    "        \n",
    "        print(response.json())\n",
    "        "
   ]
  },
  {
   "cell_type": "code",
   "execution_count": 170,
   "metadata": {},
   "outputs": [],
   "source": [
    "def exploreWorld(player):\n",
    "    print('Initializing...')\n",
    "    \n",
    "    roomStack = Stack()\n",
    "    moveStack = Stack()\n",
    "    count = 0\n",
    "    \n",
    "\n",
    "    player.currentRoomInfo = player.getRoomInfo()\n",
    "    print('Loading currentRoomInfo')\n",
    "    time.sleep(5)\n",
    "    \n",
    "    player.currentRoomID = player.currentRoomInfo['room_id']\n",
    "    player.writeNewRoomToMap()\n",
    "    \n",
    "    roomStack.push(player.currentRoomID)\n",
    "    \n",
    "    roomDict = {}\n",
    "    roomDict[player.currentRoomID] = player.currentRoomInfo\n",
    "    \n",
    "    while roomStack.size() > 0:\n",
    "        \n",
    "        direction = player.findUnexploredRoom()\n",
    "        print(\"Direction\", direction)\n",
    "        \n",
    "        if player.playersMap[player.currentRoomID][direction] == '?':\n",
    "            \n",
    "            \n",
    "            player.moveRoom(direction)\n",
    "            moveStack.push(direction)\n",
    "            \n",
    "            print(\"Leaving room: \"+str(player.previousRoomID)+\" entering room: \"+str(player.currentRoomID))\n",
    "            \n",
    "            roomStack.push(player.currentRoomID)\n",
    "            \n",
    "            if player.currentRoomID not in roomDict:\n",
    "                roomDict[player.currentRoomID] = player.currentRoomInfo\n",
    "                \n",
    "        else:\n",
    "            print(\"roomStack:\", roomStack.stack)\n",
    "            print('moveStack:', moveStack.stack)\n",
    "            roomStack.pop()\n",
    "            lastMove = moveStack.stack[-1]\n",
    "            backTrackingDirection = inverseMap[lastMove]\n",
    "            \n",
    "            if roomStack.size() > 0:\n",
    "                player.previousRoomID = player.currentRoomID\n",
    "                player.moveRoom(backTrackingDirection)\n",
    "                player.lastMoveDirection = moveStack.stack[-1]      \n",
    "\n",
    "            moveStack.pop()\n",
    "\n",
    "    return roomDict          "
   ]
  },
  {
   "cell_type": "code",
   "execution_count": 171,
   "metadata": {},
   "outputs": [],
   "source": [
    "def bfs(player, starting_vertex, destination_vertex):\n",
    "    \"\"\"\n",
    "    Return a list containing the shortest path from\n",
    "    starting_vertex to destination_vertex in\n",
    "    breath-first order.\n",
    "    \"\"\"\n",
    "\n",
    "    # Create an empty queue and enqueue the starting vertex ID\n",
    "    pathQueue = Queue()\n",
    "    directionQueue = Queue()\n",
    "    \n",
    "    pathQueue.enqueue([str(starting_vertex)])\n",
    "    directionQueue.enqueue(['Starting Location'])\n",
    "\n",
    "    # Create a Set to store visited vertices\n",
    "    visited = set()\n",
    "\n",
    "    # While the queue is not empty...\n",
    "    while destination_vertex not in visited:\n",
    "        # Dequeue the first vertex\n",
    "        path = pathQueue.dequeue()\n",
    "        directionPath = directionQueue.dequeue()\n",
    "\n",
    "        # If that vertex has not been visited\n",
    "        v = path[-1]\n",
    "        \n",
    "        if v not in visited:\n",
    "            if v == destination_vertex:\n",
    "                return path, directionPath\n",
    "            visited.add(v)\n",
    "            \n",
    "        for direction, neighboringRoom in player.playersMap[v].items():\n",
    "            path_copy = list(path)\n",
    "            path_copy.append(str(neighboringRoom))\n",
    "            pathQueue.enqueue(path_copy)\n",
    "            \n",
    "            directionCopy = list(directionPath)\n",
    "            directionCopy.append(direction)\n",
    "            directionQueue.enqueue(directionCopy)\n",
    "\n",
    "    return None"
   ]
  },
  {
   "cell_type": "code",
   "execution_count": 172,
   "metadata": {},
   "outputs": [],
   "source": [
    "def dfs(player, starting_vertex, destination_vertex):\n",
    "    \"\"\"\n",
    "    Return a list containing the shortest path from\n",
    "    starting_vertex to destination_vertex in\n",
    "    breath-first order.\n",
    "    \"\"\"\n",
    "\n",
    "    # Create an empty queue and enqueue the starting vertex ID\n",
    "    pathStack = Stack()\n",
    "    directionStack = Stack()\n",
    "    \n",
    "    pathStack.push([str(starting_vertex)])\n",
    "    directionStack.push(['Starting Location'])\n",
    "\n",
    "    # Create a Set to store visited vertices\n",
    "    visited = set()\n",
    "\n",
    "    # While the queue is not empty...\n",
    "    while destination_vertex not in visited:\n",
    "        # Dequeue the first vertex\n",
    "        path = pathStack.pop()\n",
    "        directionPath = directionStack.pop()\n",
    "\n",
    "        # If that vertex has not been visited\n",
    "        v = path[-1]\n",
    "        \n",
    "        if v not in visited:\n",
    "            if v == destination_vertex:\n",
    "                return path, directionPath\n",
    "            visited.add(v)\n",
    "            \n",
    "        for direction, neighboringRoom in player.playersMap[v].items():\n",
    "            path_copy = list(path)\n",
    "            path_copy.append(str(neighboringRoom))\n",
    "            pathStack.push(path_copy)\n",
    "            \n",
    "            directionCopy = list(directionPath)\n",
    "            directionCopy.append(direction)\n",
    "            directionStack.push(directionCopy)\n",
    "\n",
    "    return None"
   ]
  },
  {
   "cell_type": "code",
   "execution_count": 173,
   "metadata": {},
   "outputs": [],
   "source": [
    "def moveToSpecificRoom(player, starting_vertex, destination_vertex):\n",
    "    path, directionPath = bfs(player, starting_vertex, destination_vertex)\n",
    "    \n",
    "    print(path)\n",
    "    directions = directionPath[1:]\n",
    "    print(directions)\n",
    "    for direction in directions:\n",
    "        player.moveRoom(direction)\n",
    "        time.sleep(player.coolDown)\n",
    "        \n",
    "    print(\"You have reached your destination\")"
   ]
  },
  {
   "cell_type": "markdown",
   "metadata": {},
   "source": [
    "## Initialize Player"
   ]
  },
  {
   "cell_type": "code",
   "execution_count": 174,
   "metadata": {},
   "outputs": [],
   "source": [
    "player = Player()\n",
    "player.assignCurrentRoomInfo()\n",
    "player.assignCurrentRoomID()"
   ]
  },
  {
   "cell_type": "markdown",
   "metadata": {},
   "source": [
    "## World Points of Interest"
   ]
  },
  {
   "cell_type": "markdown",
   "metadata": {},
   "source": [
    "Room 22 - Shrine\n",
    "Room 461 - Shrine"
   ]
  },
  {
   "cell_type": "markdown",
   "metadata": {},
   "source": [
    "## Everything below here is for exploration"
   ]
  },
  {
   "cell_type": "code",
   "execution_count": 62,
   "metadata": {},
   "outputs": [
    {
     "name": "stdout",
     "output_type": "stream",
     "text": [
      "Cooling down for :7.5seconds\n",
      "Cooling down for :7.5seconds\n",
      "Cooling down for :7.5seconds\n",
      "You have picked up  ['shiny treasure', 'small treasure', 'tiny treasure']\n"
     ]
    }
   ],
   "source": [
    "player.takeItem()"
   ]
  },
  {
   "cell_type": "code",
   "execution_count": 91,
   "metadata": {},
   "outputs": [
    {
     "name": "stdout",
     "output_type": "stream",
     "text": [
      "Wise Explore\n"
     ]
    },
    {
     "data": {
      "text/plain": [
       "{'room_id': 2,\n",
       " 'title': 'A misty room',\n",
       " 'description': 'You are standing on grass and surrounded by a dense mist. You can barely make out the exits in any direction.',\n",
       " 'coordinates': '(60,59)',\n",
       " 'elevation': 0,\n",
       " 'terrain': 'NORMAL',\n",
       " 'players': ['SirSnuffaluffagus'],\n",
       " 'items': [],\n",
       " 'exits': ['n', 's', 'e'],\n",
       " 'cooldown': 1.0,\n",
       " 'errors': [],\n",
       " 'messages': []}"
      ]
     },
     "execution_count": 91,
     "metadata": {},
     "output_type": "execute_result"
    }
   ],
   "source": [
    "player.moveRoom('n')"
   ]
  },
  {
   "cell_type": "code",
   "execution_count": 199,
   "metadata": {},
   "outputs": [
    {
     "name": "stdout",
     "output_type": "stream",
     "text": [
      "['467', '399', '362', '352', '349', '324', '298', '164', '156', '141', '112', '100']\n",
      "['n', 'n', 'n', 'n', 'n', 'n', 'w', 'w', 'w', 'n', 'w']\n",
      "Wise Explore\n",
      "Wise Explore\n",
      "Wise Explore\n",
      "Wise Explore\n",
      "Wise Explore\n",
      "Wise Explore\n",
      "Wise Explore\n",
      "Wise Explore\n",
      "Wise Explore\n",
      "Wise Explore\n",
      "Wise Explore\n",
      "You have reached your destination\n"
     ]
    }
   ],
   "source": [
    "moveToSpecificRoom(player, player.currentRoomID, '100')"
   ]
  },
  {
   "cell_type": "code",
   "execution_count": 163,
   "metadata": {},
   "outputs": [
    {
     "data": {
      "text/plain": [
       "{'s': 141, 'e': 140, 'w': 100}"
      ]
     },
     "execution_count": 163,
     "metadata": {},
     "output_type": "execute_result"
    }
   ],
   "source": [
    "player.playersMap['461']"
   ]
  },
  {
   "cell_type": "code",
   "execution_count": 149,
   "metadata": {},
   "outputs": [
    {
     "name": "stdout",
     "output_type": "stream",
     "text": [
      "Wise Explore\n"
     ]
    },
    {
     "data": {
      "text/plain": [
       "{'room_id': 100,\n",
       " 'title': 'A misty room',\n",
       " 'description': 'You are standing on grass and surrounded by a dense mist. You can barely make out the exits in any direction.',\n",
       " 'coordinates': '(64,54)',\n",
       " 'elevation': 0,\n",
       " 'terrain': 'NORMAL',\n",
       " 'players': [],\n",
       " 'items': [],\n",
       " 'exits': ['s', 'e', 'w'],\n",
       " 'cooldown': 1.0,\n",
       " 'errors': [],\n",
       " 'messages': []}"
      ]
     },
     "execution_count": 149,
     "metadata": {},
     "output_type": "execute_result"
    }
   ],
   "source": [
    "player.moveRoom('n')"
   ]
  },
  {
   "cell_type": "code",
   "execution_count": 175,
   "metadata": {},
   "outputs": [
    {
     "name": "stdout",
     "output_type": "stream",
     "text": [
      "<Response [200]>\n",
      "{'room_id': 467, 'title': \"Pirate Ry's\", 'description': \"You see a sign before you that reads:\\n\\n'You have found Pirate Ry's. Send a `change_name` request and I'll change your identity to whatever you wish... for a price.'\", 'coordinates': '(68,47)', 'elevation': 0, 'terrain': 'NORMAL', 'players': [], 'items': [], 'exits': ['n'], 'cooldown': 30.0, 'errors': [], 'messages': ['You have changed your name to [CPHACHE].', \"'Ere's a tip from Pirate Ry: If you find a shrine, try prayin'. Ye' never know who may be listenin'.\"]}\n"
     ]
    }
   ],
   "source": [
    "player.changeName()"
   ]
  },
  {
   "cell_type": "code",
   "execution_count": 176,
   "metadata": {},
   "outputs": [],
   "source": [
    "import pandas as pd\n",
    "\n",
    "df = pd.DataFrame(worldRoomIndex)"
   ]
  },
  {
   "cell_type": "code",
   "execution_count": 180,
   "metadata": {},
   "outputs": [],
   "source": [
    "df = df.T"
   ]
  },
  {
   "cell_type": "code",
   "execution_count": 182,
   "metadata": {},
   "outputs": [
    {
     "data": {
      "text/plain": [
       "A misty room                427\n",
       "A Dark Cave                  36\n",
       "Mt. Holloway                 29\n",
       "A brightly lit room           1\n",
       "Wishing Well                  1\n",
       "The Transmogriphier           1\n",
       "Linh's Shrine                 1\n",
       "Pirate Ry's                   1\n",
       "The Peak of Mt. Holloway      1\n",
       "Shop                          1\n",
       "Glasowyn's Grave              1\n",
       "Name: title, dtype: int64"
      ]
     },
     "execution_count": 182,
     "metadata": {},
     "output_type": "execute_result"
    }
   ],
   "source": [
    "df.title.value_counts()"
   ]
  },
  {
   "cell_type": "code",
   "execution_count": 194,
   "metadata": {},
   "outputs": [],
   "source": [
    "dft = df[df['title'] != 'A misty room']\n",
    "dfo = dft[dft['title']!= 'A Dark Cave']\n",
    "dff = dfo[dfo['title']!='Mt. Holloway']"
   ]
  },
  {
   "cell_type": "code",
   "execution_count": 197,
   "metadata": {},
   "outputs": [
    {
     "data": {
      "text/html": [
       "<div>\n",
       "<style scoped>\n",
       "    .dataframe tbody tr th:only-of-type {\n",
       "        vertical-align: middle;\n",
       "    }\n",
       "\n",
       "    .dataframe tbody tr th {\n",
       "        vertical-align: top;\n",
       "    }\n",
       "\n",
       "    .dataframe thead th {\n",
       "        text-align: right;\n",
       "    }\n",
       "</style>\n",
       "<table border=\"1\" class=\"dataframe\">\n",
       "  <thead>\n",
       "    <tr style=\"text-align: right;\">\n",
       "      <th></th>\n",
       "      <th>room_id</th>\n",
       "      <th>title</th>\n",
       "      <th>description</th>\n",
       "      <th>coordinates</th>\n",
       "      <th>elevation</th>\n",
       "      <th>terrain</th>\n",
       "      <th>players</th>\n",
       "      <th>items</th>\n",
       "      <th>exits</th>\n",
       "      <th>cooldown</th>\n",
       "      <th>errors</th>\n",
       "      <th>messages</th>\n",
       "    </tr>\n",
       "  </thead>\n",
       "  <tbody>\n",
       "    <tr>\n",
       "      <td>467</td>\n",
       "      <td>467</td>\n",
       "      <td>Pirate Ry's</td>\n",
       "      <td>You see a sign before you that reads:\\n\\n'You ...</td>\n",
       "      <td>(68,47)</td>\n",
       "      <td>0</td>\n",
       "      <td>NORMAL</td>\n",
       "      <td>[]</td>\n",
       "      <td>[]</td>\n",
       "      <td>[n]</td>\n",
       "      <td>15</td>\n",
       "      <td>[]</td>\n",
       "      <td>[You have walked south.]</td>\n",
       "    </tr>\n",
       "    <tr>\n",
       "      <td>22</td>\n",
       "      <td>22</td>\n",
       "      <td>The Peak of Mt. Holloway</td>\n",
       "      <td>You are standing at the zenith of Mt. Holloway...</td>\n",
       "      <td>(61,55)</td>\n",
       "      <td>5</td>\n",
       "      <td>MOUNTAIN</td>\n",
       "      <td>[]</td>\n",
       "      <td>[]</td>\n",
       "      <td>[n, s, w]</td>\n",
       "      <td>20</td>\n",
       "      <td>[]</td>\n",
       "      <td>[You have walked north., Uphill Penalty: 5s CD]</td>\n",
       "    </tr>\n",
       "    <tr>\n",
       "      <td>0</td>\n",
       "      <td>0</td>\n",
       "      <td>A brightly lit room</td>\n",
       "      <td>You are standing in the center of a brightly l...</td>\n",
       "      <td>(60,60)</td>\n",
       "      <td>0</td>\n",
       "      <td>NORMAL</td>\n",
       "      <td>[player404, player405, player407, player408, p...</td>\n",
       "      <td>[]</td>\n",
       "      <td>[n, s, e, w]</td>\n",
       "      <td>15</td>\n",
       "      <td>[]</td>\n",
       "      <td>[You have walked north.]</td>\n",
       "    </tr>\n",
       "    <tr>\n",
       "      <td>461</td>\n",
       "      <td>461</td>\n",
       "      <td>Linh's Shrine</td>\n",
       "      <td>You are standing before a glowing shrine to a ...</td>\n",
       "      <td>(55,74)</td>\n",
       "      <td>0</td>\n",
       "      <td>CAVE</td>\n",
       "      <td>[]</td>\n",
       "      <td>[tiny treasure]</td>\n",
       "      <td>[s]</td>\n",
       "      <td>15</td>\n",
       "      <td>[]</td>\n",
       "      <td>[You have walked north.]</td>\n",
       "    </tr>\n",
       "    <tr>\n",
       "      <td>499</td>\n",
       "      <td>499</td>\n",
       "      <td>Glasowyn's Grave</td>\n",
       "      <td>You see a moss-topped gravestone which reads: ...</td>\n",
       "      <td>(51,67)</td>\n",
       "      <td>0</td>\n",
       "      <td>NORMAL</td>\n",
       "      <td>[]</td>\n",
       "      <td>[]</td>\n",
       "      <td>[e]</td>\n",
       "      <td>15</td>\n",
       "      <td>[]</td>\n",
       "      <td>[You have walked west.]</td>\n",
       "    </tr>\n",
       "    <tr>\n",
       "      <td>55</td>\n",
       "      <td>55</td>\n",
       "      <td>Wishing Well</td>\n",
       "      <td>You are standing besides a large well. A sign ...</td>\n",
       "      <td>(63,61)</td>\n",
       "      <td>0</td>\n",
       "      <td>NORMAL</td>\n",
       "      <td>[]</td>\n",
       "      <td>[small treasure]</td>\n",
       "      <td>[w]</td>\n",
       "      <td>15</td>\n",
       "      <td>[]</td>\n",
       "      <td>[You have walked east.]</td>\n",
       "    </tr>\n",
       "    <tr>\n",
       "      <td>1</td>\n",
       "      <td>1</td>\n",
       "      <td>Shop</td>\n",
       "      <td>You are standing in a small shop. A sign behin...</td>\n",
       "      <td>(59,60)</td>\n",
       "      <td>0</td>\n",
       "      <td>NORMAL</td>\n",
       "      <td>[player455, SirSnuffaluffagus, Fully, justinch...</td>\n",
       "      <td>[]</td>\n",
       "      <td>[e]</td>\n",
       "      <td>15</td>\n",
       "      <td>[]</td>\n",
       "      <td>[You have walked west.]</td>\n",
       "    </tr>\n",
       "    <tr>\n",
       "      <td>495</td>\n",
       "      <td>495</td>\n",
       "      <td>The Transmogriphier</td>\n",
       "      <td>A strange machine stands in this room.  There ...</td>\n",
       "      <td>(50,58)</td>\n",
       "      <td>0</td>\n",
       "      <td>NORMAL</td>\n",
       "      <td>[]</td>\n",
       "      <td>[tiny treasure]</td>\n",
       "      <td>[e]</td>\n",
       "      <td>15</td>\n",
       "      <td>[]</td>\n",
       "      <td>[You have walked west.]</td>\n",
       "    </tr>\n",
       "  </tbody>\n",
       "</table>\n",
       "</div>"
      ],
      "text/plain": [
       "    room_id                     title  \\\n",
       "467     467               Pirate Ry's   \n",
       "22       22  The Peak of Mt. Holloway   \n",
       "0         0       A brightly lit room   \n",
       "461     461             Linh's Shrine   \n",
       "499     499          Glasowyn's Grave   \n",
       "55       55              Wishing Well   \n",
       "1         1                      Shop   \n",
       "495     495       The Transmogriphier   \n",
       "\n",
       "                                           description coordinates elevation  \\\n",
       "467  You see a sign before you that reads:\\n\\n'You ...     (68,47)         0   \n",
       "22   You are standing at the zenith of Mt. Holloway...     (61,55)         5   \n",
       "0    You are standing in the center of a brightly l...     (60,60)         0   \n",
       "461  You are standing before a glowing shrine to a ...     (55,74)         0   \n",
       "499  You see a moss-topped gravestone which reads: ...     (51,67)         0   \n",
       "55   You are standing besides a large well. A sign ...     (63,61)         0   \n",
       "1    You are standing in a small shop. A sign behin...     (59,60)         0   \n",
       "495  A strange machine stands in this room.  There ...     (50,58)         0   \n",
       "\n",
       "      terrain                                            players  \\\n",
       "467    NORMAL                                                 []   \n",
       "22   MOUNTAIN                                                 []   \n",
       "0      NORMAL  [player404, player405, player407, player408, p...   \n",
       "461      CAVE                                                 []   \n",
       "499    NORMAL                                                 []   \n",
       "55     NORMAL                                                 []   \n",
       "1      NORMAL  [player455, SirSnuffaluffagus, Fully, justinch...   \n",
       "495    NORMAL                                                 []   \n",
       "\n",
       "                items         exits cooldown errors  \\\n",
       "467                []           [n]       15     []   \n",
       "22                 []     [n, s, w]       20     []   \n",
       "0                  []  [n, s, e, w]       15     []   \n",
       "461   [tiny treasure]           [s]       15     []   \n",
       "499                []           [e]       15     []   \n",
       "55   [small treasure]           [w]       15     []   \n",
       "1                  []           [e]       15     []   \n",
       "495   [tiny treasure]           [e]       15     []   \n",
       "\n",
       "                                            messages  \n",
       "467                         [You have walked south.]  \n",
       "22   [You have walked north., Uphill Penalty: 5s CD]  \n",
       "0                           [You have walked north.]  \n",
       "461                         [You have walked north.]  \n",
       "499                          [You have walked west.]  \n",
       "55                           [You have walked east.]  \n",
       "1                            [You have walked west.]  \n",
       "495                          [You have walked west.]  "
      ]
     },
     "execution_count": 197,
     "metadata": {},
     "output_type": "execute_result"
    }
   ],
   "source": [
    "dff"
   ]
  },
  {
   "cell_type": "code",
   "execution_count": null,
   "metadata": {},
   "outputs": [],
   "source": []
  }
 ],
 "metadata": {
  "kernelspec": {
   "display_name": "Python 3",
   "language": "python",
   "name": "python3"
  },
  "language_info": {
   "codemirror_mode": {
    "name": "ipython",
    "version": 3
   },
   "file_extension": ".py",
   "mimetype": "text/x-python",
   "name": "python",
   "nbconvert_exporter": "python",
   "pygments_lexer": "ipython3",
   "version": "3.7.4"
  }
 },
 "nbformat": 4,
 "nbformat_minor": 2
}
