{
 "cells": [
  {
   "cell_type": "markdown",
   "metadata": {},
   "source": [
    "# Getting Started"
   ]
  },
  {
   "cell_type": "markdown",
   "metadata": {},
   "source": [
    "Go to the setupTable and input your unique token\n",
    "\n",
    "DO NOT USE MY KEY (Blake)"
   ]
  },
  {
   "cell_type": "markdown",
   "metadata": {},
   "source": [
    "## Shift enter through initialize"
   ]
  },
  {
   "cell_type": "code",
   "execution_count": 6,
   "metadata": {},
   "outputs": [],
   "source": [
    "import requests\n",
    "import time\n",
    "import json"
   ]
  },
  {
   "cell_type": "code",
   "execution_count": 7,
   "metadata": {},
   "outputs": [],
   "source": [
    "class Stack():\n",
    "    def __init__(self):\n",
    "        self.stack = []\n",
    "    def push(self, value):\n",
    "        self.stack.append(value)\n",
    "    def pop(self):\n",
    "        if self.size() > 0:\n",
    "            return self.stack.pop()\n",
    "        else:\n",
    "            return None\n",
    "    def size(self):\n",
    "        return len(self.stack)"
   ]
  },
  {
   "cell_type": "code",
   "execution_count": 8,
   "metadata": {},
   "outputs": [],
   "source": [
    "class Queue():\n",
    "    def __init__(self):\n",
    "        self.queue = []\n",
    "    def enqueue(self, value):\n",
    "        self.queue.append(value)\n",
    "    def dequeue(self):\n",
    "        if self.size() > 0:\n",
    "            return self.queue.pop(0)\n",
    "        else:\n",
    "            return None\n",
    "    def size(self):\n",
    "        return len(self.queue)"
   ]
  },
  {
   "cell_type": "code",
   "execution_count": 9,
   "metadata": {},
   "outputs": [],
   "source": [
    "# Import map and room info\n",
    "with open('worldMap.json', 'r') as f:\n",
    "    worldMap = json.load(f)\n",
    "    \n",
    "with open('worldRoomIndex.json', 'r') as f:\n",
    "    worldRoomIndex = json.load(f)"
   ]
  },
  {
   "cell_type": "code",
   "execution_count": 10,
   "metadata": {},
   "outputs": [],
   "source": [
    "# Utils\n",
    "inverseMap = {'n':'s', 's':'n', 'e':'w', 'w':'e'}"
   ]
  },
  {
   "cell_type": "markdown",
   "metadata": {},
   "source": [
    "## Input unique token key here"
   ]
  },
  {
   "cell_type": "code",
   "execution_count": 254,
   "metadata": {},
   "outputs": [],
   "source": [
    "setupTable = {\n",
    "    \"url\": 'https://lambda-treasure-hunt.herokuapp.com/api/',\n",
    "    \"token\": \"d2679616e63cea70c89ff019addc2677a27c9388\",\n",
    "    \"init\": 'adv/init/',\n",
    "    \"move\": 'adv/move/',\n",
    "    \"take\": 'adv/take/',\n",
    "    \"sell\": 'adv/sell/',\n",
    "    \"drop\": 'adv/drop/',\n",
    "    \"checkStatus\": 'adv/status/',\n",
    "    \"examine\": 'adv/examine/',\n",
    "    \"wearItem\": 'adv/wear/',\n",
    "    \"removeItem\": 'adv/undress/',\n",
    "    \"nameChange\": 'adv/change_name/',\n",
    "    \"pray\": 'adv/pray/',\n",
    "    \"fly\": 'adv/fly/',\n",
    "    \"dash\": 'adv/dash/',\n",
    "    \"companionLetCarry\": 'adv/carry/',\n",
    "    \"companionReceiveBack\":  'adv/receive/',\n",
    "    \"lambdaCoinProof\": 'bc/last_proof/',\n",
    "    \"lambdaCoinMine\": 'bc/mine/'\n",
    "    \n",
    "}\n",
    "header={'Authorization': 'Token ' + setupTable['token']}\n",
    "init = setupTable['url'] + setupTable['init']\n",
    "move = setupTable['url'] + setupTable['move']\n",
    "take = setupTable['url'] + setupTable['take']\n",
    "sell = setupTable['url'] + setupTable['sell']\n",
    "drop = setupTable['url'] + setupTable['drop']\n",
    "checkStatus = setupTable['url'] + setupTable['checkStatus']\n",
    "examine = setupTable['url'] + setupTable['examine']\n",
    "wearItem = setupTable['url'] + setupTable['wearItem']\n",
    "removeItem = setupTable['url'] + setupTable['removeItem']\n",
    "nameChange = setupTable['url'] + setupTable['nameChange']\n",
    "pray = setupTable['url'] + setupTable['pray']\n",
    "fly = setupTable['url'] + setupTable['fly']\n",
    "dash = setupTable['url'] + setupTable['dash']\n",
    "companionLetCarry = setupTable['url'] + setupTable['companionLetCarry']\n",
    "companionReceiveBack = setupTable['url'] + setupTable['companionReceiveBack']\n",
    "lambdaCoinProof = setupTable['url'] + setupTable['lambdaCoinProof']\n",
    "lambdaCoinMine = setupTable['url'] + setupTable['lambdaCoinMine']"
   ]
  },
  {
   "cell_type": "code",
   "execution_count": 325,
   "metadata": {},
   "outputs": [],
   "source": [
    "class Player:\n",
    "    \n",
    "    def __init__(self):\n",
    "        self.initResponse = requests.get(url=init, headers=header)\n",
    "        self.playersMap = worldMap\n",
    "        self.coolDown = None\n",
    "        self.currentRoomID = None\n",
    "        self.previousRoomID = None\n",
    "        self.lastMoveDirection = None\n",
    "        self.currentRoomInfo = None\n",
    "        \n",
    "        self.status = None\n",
    "        self.inventory = None\n",
    "        \n",
    "        self.lastProof = None\n",
    "        \n",
    "        self.validProof = None\n",
    "\n",
    "        \n",
    "    def getRoomInfo(self):\n",
    "        time.sleep(1)\n",
    "        response = requests.get(url=init, headers=header)\n",
    "        \n",
    "        if response.status_code == 200:\n",
    "            return response.json()\n",
    "        else:\n",
    "            print(response.json())\n",
    "            print(f'400 status code at getRoomInfo method {response.status_code}')\n",
    "            \n",
    "    def assignCurrentRoomInfo(self):\n",
    "        self.currentRoomInfo = self.getRoomInfo()\n",
    "        \n",
    "    def assignCurrentRoomID(self):\n",
    "        self.currentRoomID = self.getCurrentRoomID()\n",
    "            \n",
    "    def getCurrentRoomID(self):\n",
    "        return self.currentRoomInfo['room_id']\n",
    "            \n",
    "    def writeNewRoomToMap(self):\n",
    "        exits = self.currentRoomInfo['exits']\n",
    "        \n",
    "        if self.currentRoomID not in self.playersMap:\n",
    "            self.playersMap[self.currentRoomID] = {key: '?' for key in exits}\n",
    "            \n",
    "    def writeMoveDirectionsForCurrentAndPreviousRoom(self, previousRoomID, currentRoomID, direction):\n",
    "        self.playersMap[previousRoomID][direction] = self.currentRoomID\n",
    "        self.playersMap[currentRoomID][inverseMap[direction]] = self.previousRoomID\n",
    "        \n",
    "    def moveRoom(self, direction):\n",
    "        if str(self.currentRoomID) in self.playersMap and self.playersMap[str(self.currentRoomID)][direction] !='?':\n",
    "            print(\"Wise Explore\")\n",
    "            \n",
    "            self.previousRoomID = self.currentRoomID\n",
    "            \n",
    "            nextRoom = self.playersMap[str(self.currentRoomID)][direction]\n",
    "            \n",
    "            postRequestBody = {\"direction\":direction, \"next_room_id\":str(nextRoom)}\n",
    "            response = requests.post(url=move, headers=header, json=postRequestBody)\n",
    "            self.currentRoomInfo = response.json()\n",
    "            self.coolDown = response.json()['cooldown']\n",
    "            \n",
    "            time.sleep(self.coolDown)\n",
    "            self.currentRoomID = self.getCurrentRoomID()\n",
    "            self.lastMoveDirection = direction\n",
    "            \n",
    "        else:\n",
    "            print('Normal Explore')\n",
    "            self.previousRoomID = self.currentRoomID\n",
    "            \n",
    "            postRequestBody = {\"direction\":direction}\n",
    "            response = requests.post(url=move, headers=header, json=postRequestBody)\n",
    "\n",
    "            self.currentRoomInfo = response.json()\n",
    "            self.currentRoomID = self.getCurrentRoomID()\n",
    "            \n",
    "            if response.status_code == 200:\n",
    "                self.coolDown = response.json()['cooldown']\n",
    "                time.sleep(self.coolDown)\n",
    "                \n",
    "                self.lastMoveDirection = direction\n",
    "                \n",
    "                self.writeNewRoomToMap()\n",
    "                self.writeMoveDirectionsForCurrentAndPreviousRoom(self.previousRoomID, self.currentRoomID, direction)\n",
    "            else:\n",
    "                print(\"The move was not a success\")\n",
    "                \n",
    "        return self.getRoomInfo()\n",
    "    \n",
    "    def findUnexploredRoom(self):\n",
    "        for direction in self.playersMap[self.currentRoomID]:\n",
    "            if self.playersMap[self.currentRoomID][direction] == '?':\n",
    "                return direction\n",
    "        return direction\n",
    "    \n",
    "    def takeItem(self):\n",
    "        itemName = self.currentRoomInfo['items']\n",
    "        for items in itemName:\n",
    "            postRequestBody = {\"name\": items}\n",
    "            response = requests.post(url=take, headers=header, json=postRequestBody)\n",
    "            \n",
    "            self.coolDown = response.json()['cooldown']\n",
    "            print(\"Cooling down for :\"+ str(self.coolDown)+\"seconds\")\n",
    "            time.sleep(self.coolDown)\n",
    "        print(\"You have picked up \", itemName)\n",
    "        \n",
    "    def dropItem(self, itemName):\n",
    "        pass\n",
    "    \n",
    "    def sellItem(self):\n",
    "        self.checkPlayerStatus()\n",
    "        time.sleep(2)\n",
    "        if self.inventory:\n",
    "            for item in self.inventory:\n",
    "                postRequestBody = {\"name\": item, \"confirm\":\"yes\"}\n",
    "                response = requests.post(url=sell, headers=header, json=postRequestBody)\n",
    "                self.coolDown = response.json()['cooldown']\n",
    "                time.sleep(self.coolDown)\n",
    "                print(\"You have sold: \", item)\n",
    "                \n",
    "    def changeName(self):\n",
    "        postRequestBody = {\"name\": \"[CPHACHE]\", \"confirm\":\"aye\"}\n",
    "        response= requests.post(url=nameChange, headers=header, json=postRequestBody)\n",
    "        \n",
    "        print(response)\n",
    "        print(response.json())\n",
    "        \n",
    "    def prayToShrine(self):\n",
    "        response = requests.post(url=pray, headers=header)\n",
    "        print(response.json())\n",
    "        self.coolDown = response.json()['cooldown']\n",
    "        time.sleep(self.coolDown)\n",
    "        \n",
    "    def getLambdaCoinProof(self):\n",
    "        response = requests.get(url=lambdaCoinProof, headers=header)\n",
    "        self.lastProof = response.json()\n",
    "        return response.json()\n",
    "    \n",
    "    def mineCoin(self):\n",
    "        newProof = self.validProof\n",
    "        print(newProof)\n",
    "        postRequestBody = {\"name\":newProof}\n",
    "        response = requests.post(url=lambdaCoinMine, headers=header, json=postRequestBody)\n",
    "        print(response.json())\n",
    "        \n",
    "    def examineWell(self):\n",
    "        postRequestBody = {\"name\":\"WELL\"}\n",
    "        response = requests.post(url=examine, headers=header, json=postRequestBody)\n",
    "        return response.json()\n",
    "        \n",
    "    def checkPlayerStatus(self):\n",
    "        response = requests.post(url=checkStatus, headers=header)\n",
    "        self.status = response.json()\n",
    "        self.coolDown = response.json()['cooldown']\n",
    "        \n",
    "        if response.json()['inventory']:\n",
    "            self.inventory = response.json()['inventory']\n",
    "            \n",
    "        time.sleep(self.coolDown)\n",
    "        \n",
    "        print(response.json())\n",
    "        \n",
    "        "
   ]
  },
  {
   "cell_type": "code",
   "execution_count": 326,
   "metadata": {},
   "outputs": [],
   "source": [
    "def exploreWorld(player):\n",
    "    print('Initializing...')\n",
    "    \n",
    "    roomStack = Stack()\n",
    "    moveStack = Stack()\n",
    "    count = 0\n",
    "    \n",
    "\n",
    "    player.currentRoomInfo = player.getRoomInfo()\n",
    "    print('Loading currentRoomInfo')\n",
    "    time.sleep(5)\n",
    "    \n",
    "    player.currentRoomID = player.currentRoomInfo['room_id']\n",
    "    player.writeNewRoomToMap()\n",
    "    \n",
    "    roomStack.push(player.currentRoomID)\n",
    "    \n",
    "    roomDict = {}\n",
    "    roomDict[player.currentRoomID] = player.currentRoomInfo\n",
    "    \n",
    "    while roomStack.size() > 0:\n",
    "        \n",
    "        direction = player.findUnexploredRoom()\n",
    "        print(\"Direction\", direction)\n",
    "        \n",
    "        if player.playersMap[player.currentRoomID][direction] == '?':\n",
    "            \n",
    "            \n",
    "            player.moveRoom(direction)\n",
    "            moveStack.push(direction)\n",
    "            \n",
    "            print(\"Leaving room: \"+str(player.previousRoomID)+\" entering room: \"+str(player.currentRoomID))\n",
    "            \n",
    "            roomStack.push(player.currentRoomID)\n",
    "            \n",
    "            if player.currentRoomID not in roomDict:\n",
    "                roomDict[player.currentRoomID] = player.currentRoomInfo\n",
    "                \n",
    "        else:\n",
    "            print(\"roomStack:\", roomStack.stack)\n",
    "            print('moveStack:', moveStack.stack)\n",
    "            roomStack.pop()\n",
    "            lastMove = moveStack.stack[-1]\n",
    "            backTrackingDirection = inverseMap[lastMove]\n",
    "            \n",
    "            if roomStack.size() > 0:\n",
    "                player.previousRoomID = player.currentRoomID\n",
    "                player.moveRoom(backTrackingDirection)\n",
    "                player.lastMoveDirection = moveStack.stack[-1]      \n",
    "\n",
    "            moveStack.pop()\n",
    "\n",
    "    return roomDict          "
   ]
  },
  {
   "cell_type": "code",
   "execution_count": 327,
   "metadata": {},
   "outputs": [],
   "source": [
    "def bfs(player, starting_vertex, destination_vertex):\n",
    "    \"\"\"\n",
    "    Return a list containing the shortest path from\n",
    "    starting_vertex to destination_vertex in\n",
    "    breath-first order.\n",
    "    \"\"\"\n",
    "\n",
    "    # Create an empty queue and enqueue the starting vertex ID\n",
    "    pathQueue = Queue()\n",
    "    directionQueue = Queue()\n",
    "    \n",
    "    pathQueue.enqueue([str(starting_vertex)])\n",
    "    directionQueue.enqueue(['Starting Location'])\n",
    "\n",
    "    # Create a Set to store visited vertices\n",
    "    visited = set()\n",
    "\n",
    "    # While the queue is not empty...\n",
    "    while destination_vertex not in visited:\n",
    "        # Dequeue the first vertex\n",
    "        path = pathQueue.dequeue()\n",
    "        directionPath = directionQueue.dequeue()\n",
    "\n",
    "        # If that vertex has not been visited\n",
    "        v = path[-1]\n",
    "        \n",
    "        if v not in visited:\n",
    "            if v == destination_vertex:\n",
    "                return path, directionPath\n",
    "            visited.add(v)\n",
    "            \n",
    "        for direction, neighboringRoom in player.playersMap[v].items():\n",
    "            path_copy = list(path)\n",
    "            path_copy.append(str(neighboringRoom))\n",
    "            pathQueue.enqueue(path_copy)\n",
    "            \n",
    "            directionCopy = list(directionPath)\n",
    "            directionCopy.append(direction)\n",
    "            directionQueue.enqueue(directionCopy)\n",
    "\n",
    "    return None"
   ]
  },
  {
   "cell_type": "code",
   "execution_count": 328,
   "metadata": {},
   "outputs": [],
   "source": [
    "def dfs(player, starting_vertex, destination_vertex):\n",
    "    \"\"\"\n",
    "    Return a list containing the shortest path from\n",
    "    starting_vertex to destination_vertex in\n",
    "    breath-first order.\n",
    "    \"\"\"\n",
    "\n",
    "    # Create an empty queue and enqueue the starting vertex ID\n",
    "    pathStack = Stack()\n",
    "    directionStack = Stack()\n",
    "    \n",
    "    pathStack.push([str(starting_vertex)])\n",
    "    directionStack.push(['Starting Location'])\n",
    "\n",
    "    # Create a Set to store visited vertices\n",
    "    visited = set()\n",
    "\n",
    "    # While the queue is not empty...\n",
    "    while destination_vertex not in visited:\n",
    "        # Dequeue the first vertex\n",
    "        path = pathStack.pop()\n",
    "        directionPath = directionStack.pop()\n",
    "\n",
    "        # If that vertex has not been visited\n",
    "        v = path[-1]\n",
    "        \n",
    "        if v not in visited:\n",
    "            if v == destination_vertex:\n",
    "                return path, directionPath\n",
    "            visited.add(v)\n",
    "            \n",
    "        for direction, neighboringRoom in player.playersMap[v].items():\n",
    "            path_copy = list(path)\n",
    "            path_copy.append(str(neighboringRoom))\n",
    "            pathStack.push(path_copy)\n",
    "            \n",
    "            directionCopy = list(directionPath)\n",
    "            directionCopy.append(direction)\n",
    "            directionStack.push(directionCopy)\n",
    "\n",
    "    return None"
   ]
  },
  {
   "cell_type": "code",
   "execution_count": 329,
   "metadata": {},
   "outputs": [],
   "source": [
    "def moveToSpecificRoom(player, starting_vertex, destination_vertex):\n",
    "    path, directionPath = bfs(player, starting_vertex, destination_vertex)\n",
    "    \n",
    "    print(path)\n",
    "    directions = directionPath[1:]\n",
    "    print(directions)\n",
    "    for direction in directions:\n",
    "        player.moveRoom(direction)\n",
    "        time.sleep(player.coolDown)\n",
    "        \n",
    "    print(\"You have reached your destination\")"
   ]
  },
  {
   "cell_type": "markdown",
   "metadata": {},
   "source": [
    "## Initialize Player"
   ]
  },
  {
   "cell_type": "code",
   "execution_count": 330,
   "metadata": {},
   "outputs": [],
   "source": [
    "player = Player()\n",
    "player.assignCurrentRoomInfo()\n",
    "player.assignCurrentRoomID()"
   ]
  },
  {
   "cell_type": "markdown",
   "metadata": {},
   "source": [
    "## World Points of Interest"
   ]
  },
  {
   "cell_type": "markdown",
   "metadata": {},
   "source": [
    "Room 22 - Shrine\n",
    "Room 461 - Shrine (checkpoint 125, 224)"
   ]
  },
  {
   "cell_type": "markdown",
   "metadata": {},
   "source": [
    "## Everything below here is for exploration"
   ]
  },
  {
   "cell_type": "code",
   "execution_count": 263,
   "metadata": {},
   "outputs": [
    {
     "data": {
      "text/plain": [
       "{'proof': 40406328,\n",
       " 'difficulty': 6,\n",
       " 'cooldown': 1.0,\n",
       " 'messages': [],\n",
       " 'errors': []}"
      ]
     },
     "execution_count": 263,
     "metadata": {},
     "output_type": "execute_result"
    }
   ],
   "source": [
    "player.getLambdaCoinProof()"
   ]
  },
  {
   "cell_type": "code",
   "execution_count": 234,
   "metadata": {},
   "outputs": [
    {
     "data": {
      "text/plain": [
       "{'room_id': 55,\n",
       " 'title': 'Wishing Well',\n",
       " 'description': \"You are standing besides a large well. A sign next the well reads 'EXAMINE WELL, FIND WEALTH'.\",\n",
       " 'coordinates': '(63,61)',\n",
       " 'elevation': 0,\n",
       " 'terrain': 'NORMAL',\n",
       " 'players': ['ken_ridenour',\n",
       "  'Micah',\n",
       "  'Labyrinth65',\n",
       "  \"['Dusty.Y']\",\n",
       "  'NP',\n",
       "  '[JarredStanford]'],\n",
       " 'items': [],\n",
       " 'exits': ['w'],\n",
       " 'cooldown': 7.5,\n",
       " 'errors': [],\n",
       " 'messages': ['You have walked east.', 'Wise Explorer: -50% CD']}"
      ]
     },
     "execution_count": 234,
     "metadata": {},
     "output_type": "execute_result"
    }
   ],
   "source": [
    "player.currentRoomInfo"
   ]
  },
  {
   "cell_type": "code",
   "execution_count": 228,
   "metadata": {},
   "outputs": [
    {
     "name": "stdout",
     "output_type": "stream",
     "text": [
      "{'room_id': 499, 'title': \"Glasowyn's Grave\", 'description': \"You see a moss-topped gravestone which reads: 'Here lies Glasowyn of Web17/Labs12/CS18, who was crushed under the weight of her own gold.' There doesn't seem to be any gold around, but marks in the dirt suggest that someone has knelt there, perhaps in prayer.\", 'coordinates': '(51,67)', 'elevation': 0, 'terrain': 'NORMAL', 'players': [], 'items': [], 'exits': ['e'], 'cooldown': 75.0, 'errors': [], 'messages': ['You sense a ghostly presence beside you, eager to ease your burden.']}\n"
     ]
    }
   ],
   "source": [
    "player.prayToShrine()"
   ]
  },
  {
   "cell_type": "code",
   "execution_count": 229,
   "metadata": {},
   "outputs": [
    {
     "name": "stdout",
     "output_type": "stream",
     "text": [
      "{'name': '[CPHACHE]', 'cooldown': 1.0, 'encumbrance': 0, 'strength': 10, 'speed': 10, 'gold': 200, 'bodywear': None, 'footwear': None, 'inventory': [], 'abilities': ['pray', 'mine', 'fly', 'dash', 'carry'], 'status': [], 'has_mined': False, 'errors': [], 'messages': []}\n"
     ]
    }
   ],
   "source": [
    "player.checkPlayerStatus()"
   ]
  },
  {
   "cell_type": "code",
   "execution_count": null,
   "metadata": {
    "scrolled": true
   },
   "outputs": [
    {
     "name": "stdout",
     "output_type": "stream",
     "text": [
      "['0', '10', '19', '20', '27', '30', '32', '39']\n",
      "['n', 'n', 'n', 'e', 'e', 'e', 'n']\n",
      "Wise Explore\n",
      "Wise Explore\n",
      "Wise Explore\n",
      "Wise Explore\n"
     ]
    }
   ],
   "source": [
    "moveToSpecificRoom(player, player.currentRoomID, '200')"
   ]
  },
  {
   "cell_type": "code",
   "execution_count": 149,
   "metadata": {},
   "outputs": [
    {
     "name": "stdout",
     "output_type": "stream",
     "text": [
      "Wise Explore\n"
     ]
    },
    {
     "data": {
      "text/plain": [
       "{'room_id': 100,\n",
       " 'title': 'A misty room',\n",
       " 'description': 'You are standing on grass and surrounded by a dense mist. You can barely make out the exits in any direction.',\n",
       " 'coordinates': '(64,54)',\n",
       " 'elevation': 0,\n",
       " 'terrain': 'NORMAL',\n",
       " 'players': [],\n",
       " 'items': [],\n",
       " 'exits': ['s', 'e', 'w'],\n",
       " 'cooldown': 1.0,\n",
       " 'errors': [],\n",
       " 'messages': []}"
      ]
     },
     "execution_count": 149,
     "metadata": {},
     "output_type": "execute_result"
    }
   ],
   "source": [
    "player.moveRoom('n')"
   ]
  },
  {
   "cell_type": "code",
   "execution_count": 175,
   "metadata": {},
   "outputs": [
    {
     "name": "stdout",
     "output_type": "stream",
     "text": [
      "<Response [200]>\n",
      "{'room_id': 467, 'title': \"Pirate Ry's\", 'description': \"You see a sign before you that reads:\\n\\n'You have found Pirate Ry's. Send a `change_name` request and I'll change your identity to whatever you wish... for a price.'\", 'coordinates': '(68,47)', 'elevation': 0, 'terrain': 'NORMAL', 'players': [], 'items': [], 'exits': ['n'], 'cooldown': 30.0, 'errors': [], 'messages': ['You have changed your name to [CPHACHE].', \"'Ere's a tip from Pirate Ry: If you find a shrine, try prayin'. Ye' never know who may be listenin'.\"]}\n"
     ]
    }
   ],
   "source": [
    "player.changeName()"
   ]
  },
  {
   "cell_type": "code",
   "execution_count": 176,
   "metadata": {},
   "outputs": [],
   "source": [
    "import pandas as pd\n",
    "\n",
    "df = pd.DataFrame(worldRoomIndex)"
   ]
  },
  {
   "cell_type": "code",
   "execution_count": 180,
   "metadata": {},
   "outputs": [],
   "source": [
    "df = df.T"
   ]
  },
  {
   "cell_type": "code",
   "execution_count": 182,
   "metadata": {},
   "outputs": [
    {
     "data": {
      "text/plain": [
       "A misty room                427\n",
       "A Dark Cave                  36\n",
       "Mt. Holloway                 29\n",
       "A brightly lit room           1\n",
       "Wishing Well                  1\n",
       "The Transmogriphier           1\n",
       "Linh's Shrine                 1\n",
       "Pirate Ry's                   1\n",
       "The Peak of Mt. Holloway      1\n",
       "Shop                          1\n",
       "Glasowyn's Grave              1\n",
       "Name: title, dtype: int64"
      ]
     },
     "execution_count": 182,
     "metadata": {},
     "output_type": "execute_result"
    }
   ],
   "source": [
    "df.title.value_counts()"
   ]
  },
  {
   "cell_type": "code",
   "execution_count": 194,
   "metadata": {},
   "outputs": [],
   "source": [
    "dft = df[df['title'] != 'A misty room']\n",
    "dfo = dft[dft['title']!= 'A Dark Cave']\n",
    "dff = dfo[dfo['title']!='Mt. Holloway']"
   ]
  },
  {
   "cell_type": "code",
   "execution_count": null,
   "metadata": {},
   "outputs": [],
   "source": []
  },
  {
   "cell_type": "code",
   "execution_count": 224,
   "metadata": {},
   "outputs": [
    {
     "name": "stdout",
     "output_type": "stream",
     "text": [
      "You see a sign before you that reads:\n",
      "\n",
      "'You have found Pirate Ry's. Send a `change_name` request and I'll change your identity to whatever you wish... for a price.'\n",
      "You are standing at the zenith of Mt. Holloway. You see before you a holy shrine erected in the image of a magnificent winged deity.\n",
      "You are standing in the center of a brightly lit room. You notice a shop to the west and exits to the north, south and east.\n",
      "You are standing before a glowing shrine to a Linh, the Swift. She looks quite fast.\n",
      "You see a moss-topped gravestone which reads: 'Here lies Glasowyn of Web17/Labs12/CS18, who was crushed under the weight of her own gold.' There doesn't seem to be any gold around, but marks in the dirt suggest that someone has knelt there, perhaps in prayer.\n",
      "You are standing besides a large well. A sign next the well reads 'EXAMINE WELL, FIND WEALTH'.\n",
      "You are standing in a small shop. A sign behind the mechanical shopkeeper says 'WILL PAY FOR TREASURE'.\n",
      "A strange machine stands in this room.  There is a large opening on the top.  A placard reads, \"Test your luck!  One item and one Lambdacoin!\"\n"
     ]
    }
   ],
   "source": [
    "for i in dff['description']:\n",
    "    print(i)"
   ]
  },
  {
   "cell_type": "markdown",
   "metadata": {},
   "source": [
    "## BlockChain"
   ]
  },
  {
   "cell_type": "code",
   "execution_count": 309,
   "metadata": {},
   "outputs": [
    {
     "data": {
      "text/plain": [
       "{'proof': 16314503,\n",
       " 'difficulty': 6,\n",
       " 'cooldown': 1.0,\n",
       " 'messages': [],\n",
       " 'errors': []}"
      ]
     },
     "execution_count": 309,
     "metadata": {},
     "output_type": "execute_result"
    }
   ],
   "source": [
    "player.getLambdaCoinProof()"
   ]
  },
  {
   "cell_type": "code",
   "execution_count": 319,
   "metadata": {},
   "outputs": [
    {
     "name": "stdout",
     "output_type": "stream",
     "text": [
      "Searching for next proof\n",
      "Proof found: 29721254 in 86.10790107499997\n",
      "29721254\n",
      "{'name': '[CPHACHE]', 'description': '[CPHACHE] looks like an ordinary person.', 'cooldown': 115.0, 'errors': ['There is no coin here: +100s'], 'messages': []}\n"
     ]
    }
   ],
   "source": [
    "player.getLambdaCoinProof()\n",
    "proof_of_work(player)\n",
    "player.mineCoin()"
   ]
  },
  {
   "cell_type": "code",
   "execution_count": 320,
   "metadata": {},
   "outputs": [],
   "source": [
    "import hashlib\n",
    "import requests\n",
    "\n",
    "import sys\n",
    "\n",
    "from uuid import uuid4\n",
    "\n",
    "from timeit import default_timer as timer\n",
    "\n",
    "import random\n",
    "\n",
    "\n",
    "def proof_of_work(player):\n",
    "    start = timer()\n",
    "    \n",
    "    last_proof = player.lastProof['proof']\n",
    "    \n",
    "    \n",
    "    print(\"Searching for next proof\")\n",
    "    #block_string = json.dumps(last_proof, sort_keys=True)\n",
    "    proof = 0\n",
    "    #  TODO: Your code here\n",
    "    while valid_proof(last_proof, proof) is False:\n",
    "        proof +=1\n",
    "    print(\"Proof found: \" + str(proof) + \" in \" + str(timer() - start))\n",
    "    player.validProof = proof\n",
    "    return proof\n",
    "\n",
    "\n",
    "def valid_proof(last_hash, proof):\n",
    "    \n",
    "    difficulty = player.lastProof['difficulty']\n",
    "    leadingZeros = '0'* difficulty\n",
    "    \n",
    "    guess = f'{last_hash}{proof}'.encode()\n",
    "    guess_hash = hashlib.sha256(guess).hexdigest()\n",
    "    if str(guess_hash)[:difficulty] == leadingZeros:\n",
    "        print(guess_hash)\n",
    "        return True\n",
    "    else:\n",
    "        return False\n"
   ]
  },
  {
   "cell_type": "code",
   "execution_count": 331,
   "metadata": {},
   "outputs": [
    {
     "data": {
      "text/plain": [
       "{'name': 'Wishing Well',\n",
       " 'description': 'You see a faint pattern in the water...\\n\\n10000010\\n00000001\\n01001101\\n01001000\\n00000001\\n10000010\\n00000001\\n01101001\\n01001000\\n00000001\\n10000010\\n00000001\\n01101110\\n01001000\\n00000001\\n10000010\\n00000001\\n01100101\\n01001000\\n00000001\\n10000010\\n00000001\\n00100000\\n01001000\\n00000001\\n10000010\\n00000001\\n01111001\\n01001000\\n00000001\\n10000010\\n00000001\\n01101111\\n01001000\\n00000001\\n10000010\\n00000001\\n01110101\\n01001000\\n00000001\\n10000010\\n00000001\\n01110010\\n01001000\\n00000001\\n10000010\\n00000001\\n00100000\\n01001000\\n00000001\\n10000010\\n00000001\\n01100011\\n01001000\\n00000001\\n10000010\\n00000001\\n01101111\\n01001000\\n00000001\\n10000010\\n00000001\\n01101001\\n01001000\\n00000001\\n10000010\\n00000001\\n01101110\\n01001000\\n00000001\\n10000010\\n00000001\\n00100000\\n01001000\\n00000001\\n10000010\\n00000001\\n01101001\\n01001000\\n00000001\\n10000010\\n00000001\\n01101110\\n01001000\\n00000001\\n10000010\\n00000001\\n00100000\\n01001000\\n00000001\\n10000010\\n00000001\\n01110010\\n01001000\\n00000001\\n10000010\\n00000001\\n01101111\\n01001000\\n00000001\\n10000010\\n00000001\\n01101111\\n01001000\\n00000001\\n10000010\\n00000001\\n01101101\\n01001000\\n00000001\\n10000010\\n00000001\\n00100000\\n01001000\\n00000001\\n10000010\\n00000001\\n00110011\\n01001000\\n00000001\\n10000010\\n00000001\\n00111000\\n01001000\\n00000001\\n10000010\\n00000001\\n00110101\\n01001000\\n00000001\\n00000001',\n",
       " 'cooldown': 7.5,\n",
       " 'errors': [],\n",
       " 'messages': []}"
      ]
     },
     "execution_count": 331,
     "metadata": {},
     "output_type": "execute_result"
    }
   ],
   "source": [
    "player.examineWell()"
   ]
  },
  {
   "cell_type": "code",
   "execution_count": 332,
   "metadata": {},
   "outputs": [
    {
     "name": "stdout",
     "output_type": "stream",
     "text": [
      "\n",
      "\n",
      "10000010\n",
      "00000001\n",
      "01001101\n",
      "01001000\n",
      "00000001\n",
      "10000010\n",
      "00000001\n",
      "01101001\n",
      "01001000\n",
      "00000001\n",
      "10000010\n",
      "00000001\n",
      "01101110\n",
      "01001000\n",
      "00000001\n",
      "10000010\n",
      "00000001\n",
      "01100101\n",
      "01001000\n",
      "00000001\n",
      "10000010\n",
      "00000001\n",
      "00100000\n",
      "01001000\n",
      "00000001\n",
      "10000010\n",
      "00000001\n",
      "01111001\n",
      "01001000\n",
      "00000001\n",
      "10000010\n",
      "00000001\n",
      "01101111\n",
      "01001000\n",
      "00000001\n",
      "10000010\n",
      "00000001\n",
      "01110101\n",
      "01001000\n",
      "00000001\n",
      "10000010\n",
      "00000001\n",
      "01110010\n",
      "01001000\n",
      "00000001\n",
      "10000010\n",
      "00000001\n",
      "00100000\n",
      "01001000\n",
      "00000001\n",
      "10000010\n",
      "00000001\n",
      "01100011\n",
      "01001000\n",
      "00000001\n",
      "10000010\n",
      "00000001\n",
      "01101111\n",
      "01001000\n",
      "00000001\n",
      "10000010\n",
      "00000001\n",
      "01101001\n",
      "01001000\n",
      "00000001\n",
      "10000010\n",
      "00000001\n",
      "01101110\n",
      "01001000\n",
      "00000001\n",
      "10000010\n",
      "00000001\n",
      "00100000\n",
      "01001000\n",
      "00000001\n",
      "10000010\n",
      "00000001\n",
      "01101001\n",
      "01001000\n",
      "00000001\n",
      "10000010\n",
      "00000001\n",
      "01101110\n",
      "01001000\n",
      "00000001\n",
      "10000010\n",
      "00000001\n",
      "00100000\n",
      "01001000\n",
      "00000001\n",
      "10000010\n",
      "00000001\n",
      "01110010\n",
      "01001000\n",
      "00000001\n",
      "10000010\n",
      "00000001\n",
      "01101111\n",
      "01001000\n",
      "00000001\n",
      "10000010\n",
      "00000001\n",
      "01101111\n",
      "01001000\n",
      "00000001\n",
      "10000010\n",
      "00000001\n",
      "01101101\n",
      "01001000\n",
      "00000001\n",
      "10000010\n",
      "00000001\n",
      "00100000\n",
      "01001000\n",
      "00000001\n",
      "10000010\n",
      "00000001\n",
      "00110011\n",
      "01001000\n",
      "00000001\n",
      "10000010\n",
      "00000001\n",
      "00111000\n",
      "01001000\n",
      "00000001\n",
      "10000010\n",
      "00000001\n",
      "00110101\n",
      "01001000\n",
      "00000001\n",
      "00000001\n"
     ]
    }
   ],
   "source": [
    "print('\\n\\n10000010\\n00000001\\n01001101\\n01001000\\n00000001\\n10000010\\n00000001\\n01101001\\n01001000\\n00000001\\n10000010\\n00000001\\n01101110\\n01001000\\n00000001\\n10000010\\n00000001\\n01100101\\n01001000\\n00000001\\n10000010\\n00000001\\n00100000\\n01001000\\n00000001\\n10000010\\n00000001\\n01111001\\n01001000\\n00000001\\n10000010\\n00000001\\n01101111\\n01001000\\n00000001\\n10000010\\n00000001\\n01110101\\n01001000\\n00000001\\n10000010\\n00000001\\n01110010\\n01001000\\n00000001\\n10000010\\n00000001\\n00100000\\n01001000\\n00000001\\n10000010\\n00000001\\n01100011\\n01001000\\n00000001\\n10000010\\n00000001\\n01101111\\n01001000\\n00000001\\n10000010\\n00000001\\n01101001\\n01001000\\n00000001\\n10000010\\n00000001\\n01101110\\n01001000\\n00000001\\n10000010\\n00000001\\n00100000\\n01001000\\n00000001\\n10000010\\n00000001\\n01101001\\n01001000\\n00000001\\n10000010\\n00000001\\n01101110\\n01001000\\n00000001\\n10000010\\n00000001\\n00100000\\n01001000\\n00000001\\n10000010\\n00000001\\n01110010\\n01001000\\n00000001\\n10000010\\n00000001\\n01101111\\n01001000\\n00000001\\n10000010\\n00000001\\n01101111\\n01001000\\n00000001\\n10000010\\n00000001\\n01101101\\n01001000\\n00000001\\n10000010\\n00000001\\n00100000\\n01001000\\n00000001\\n10000010\\n00000001\\n00110011\\n01001000\\n00000001\\n10000010\\n00000001\\n00111000\\n01001000\\n00000001\\n10000010\\n00000001\\n00110101\\n01001000\\n00000001\\n00000001')"
   ]
  },
  {
   "cell_type": "code",
   "execution_count": 322,
   "metadata": {},
   "outputs": [
    {
     "name": "stdout",
     "output_type": "stream",
     "text": [
      "Searching for next proof\n",
      "00000008dd0aee9cbac6ee149035d13e41240f9c3b26b4260736838a73850031\n",
      "Proof found: 32855342 in 91.50412111500009\n"
     ]
    },
    {
     "data": {
      "text/plain": [
       "32855342"
      ]
     },
     "execution_count": 322,
     "metadata": {},
     "output_type": "execute_result"
    }
   ],
   "source": [
    "player.getLambdaCoinProof()\n",
    "proof_of_work(player)"
   ]
  },
  {
   "cell_type": "code",
   "execution_count": 324,
   "metadata": {},
   "outputs": [
    {
     "name": "stdout",
     "output_type": "stream",
     "text": [
      "32855342\n",
      "{'name': '[CPHACHE]', 'description': '[CPHACHE] looks like an ordinary person.', 'cooldown': 115.0, 'errors': ['There is no coin here: +100s'], 'messages': []}\n"
     ]
    }
   ],
   "source": [
    "player.mineCoin()"
   ]
  },
  {
   "cell_type": "code",
   "execution_count": null,
   "metadata": {},
   "outputs": [],
   "source": [
    "if __name__ == '__main__':\n",
    "    # What node are we interacting with?\n",
    "    if len(sys.argv) > 1:\n",
    "        node = sys.argv[1]\n",
    "    else:\n",
    "        node = setupTable['url'] + setupTable['lambdaCoinMine']\n",
    "\n",
    "    coins_mined = 0\n",
    "\n",
    "    # Load or create ID\n",
    "    f = open(\"my_id.txt\", \"r\")\n",
    "    id = f.read()\n",
    "    print(\"ID is\", id)\n",
    "    f.close()\n",
    "\n",
    "    if id == 'NONAME\\n':\n",
    "        print(\"ERROR: You must change your name in `my_id.txt`!\")\n",
    "        exit()\n",
    "    # Run forever until interrupted\n",
    "    while True:\n",
    "        # Get the last proof from the server\n",
    "        r = requests.get(url=node + \"/last_proof\")\n",
    "        data = r.json()\n",
    "        new_proof = proof_of_work(data.get('proof'))\n",
    "\n",
    "        post_data = {\"proof\": new_proof,\n",
    "                     \"id\": id}\n",
    "\n",
    "        r = requests.post(url=node + \"/mine\", json=post_data)\n",
    "        data = r.json()\n",
    "        if data.get('message') == 'New Block Forged':\n",
    "            coins_mined += 1\n",
    "            print(\"Total coins mined: \" + str(coins_mined))\n",
    "        else:\n",
    "            print(data.get('message'))"
   ]
  }
 ],
 "metadata": {
  "kernelspec": {
   "display_name": "Python 3",
   "language": "python",
   "name": "python3"
  },
  "language_info": {
   "codemirror_mode": {
    "name": "ipython",
    "version": 3
   },
   "file_extension": ".py",
   "mimetype": "text/x-python",
   "name": "python",
   "nbconvert_exporter": "python",
   "pygments_lexer": "ipython3",
   "version": "3.7.4"
  }
 },
 "nbformat": 4,
 "nbformat_minor": 2
}
