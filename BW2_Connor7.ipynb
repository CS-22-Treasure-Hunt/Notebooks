{
 "cells": [
  {
   "cell_type": "markdown",
   "metadata": {},
   "source": [
    "# Getting Started"
   ]
  },
  {
   "cell_type": "markdown",
   "metadata": {},
   "source": [
    "Go to the setupTable and input your unique token\n",
    "\n",
    "DO NOT USE MY KEY (Blake)"
   ]
  },
  {
   "cell_type": "markdown",
   "metadata": {},
   "source": [
    "## Run cells through initialize player"
   ]
  },
  {
   "cell_type": "code",
   "execution_count": 6,
   "metadata": {},
   "outputs": [],
   "source": [
    "import requests\n",
    "import time\n",
    "import json\n",
    "import hashlib\n",
    "from timeit import default_timer as timer"
   ]
  },
  {
   "cell_type": "code",
   "execution_count": 7,
   "metadata": {},
   "outputs": [],
   "source": [
    "class Stack():\n",
    "    def __init__(self):\n",
    "        self.stack = []\n",
    "    def push(self, value):\n",
    "        self.stack.append(value)\n",
    "    def pop(self):\n",
    "        if self.size() > 0:\n",
    "            return self.stack.pop()\n",
    "        else:\n",
    "            return None\n",
    "    def size(self):\n",
    "        return len(self.stack)"
   ]
  },
  {
   "cell_type": "code",
   "execution_count": 8,
   "metadata": {},
   "outputs": [],
   "source": [
    "class Queue():\n",
    "    def __init__(self):\n",
    "        self.queue = []\n",
    "    def enqueue(self, value):\n",
    "        self.queue.append(value)\n",
    "    def dequeue(self):\n",
    "        if self.size() > 0:\n",
    "            return self.queue.pop(0)\n",
    "        else:\n",
    "            return None\n",
    "    def size(self):\n",
    "        return len(self.queue)"
   ]
  },
  {
   "cell_type": "code",
   "execution_count": 9,
   "metadata": {},
   "outputs": [],
   "source": [
    "# Import map and room info\n",
    "with open('worldMap.json', 'r') as f:\n",
    "    worldMap = json.load(f)\n",
    "    \n",
    "with open('worldRoomIndex.json', 'r') as f:\n",
    "    worldRoomIndex = json.load(f)"
   ]
  },
  {
   "cell_type": "code",
   "execution_count": 10,
   "metadata": {},
   "outputs": [],
   "source": [
    "# Utils\n",
    "inverseMap = {'n':'s', 's':'n', 'e':'w', 'w':'e'}"
   ]
  },
  {
   "cell_type": "markdown",
   "metadata": {},
   "source": [
    "## Input unique token key here"
   ]
  },
  {
   "cell_type": "code",
   "execution_count": 475,
   "metadata": {},
   "outputs": [],
   "source": [
    "setupTable = {\n",
    "    \"url\": 'https://lambda-treasure-hunt.herokuapp.com/api/',\n",
    "    \"token\": \"d2679616e63cea70c89ff019addc2677a27c9388\",\n",
    "    \"init\": 'adv/init/',\n",
    "    \"move\": 'adv/move/',\n",
    "    \"take\": 'adv/take/',\n",
    "    \"sell\": 'adv/sell/',\n",
    "    \"drop\": 'adv/drop/',\n",
    "    \"checkStatus\": 'adv/status/',\n",
    "    \"examine\": 'adv/examine/',\n",
    "    \"wearItem\": 'adv/wear/',\n",
    "    \"removeItem\": 'adv/undress/',\n",
    "    \"nameChange\": 'adv/change_name/',\n",
    "    \"pray\": 'adv/pray/',\n",
    "    \"fly\": 'adv/fly/',\n",
    "    \"dash\": 'adv/dash/',\n",
    "    \"companionLetCarry\": 'adv/carry/',\n",
    "    \"companionReceiveBack\":  'adv/receive/',\n",
    "    \"lambdaCoinProof\": 'bc/last_proof/',\n",
    "    \"lambdaCoinMine\": 'bc/mine/',\n",
    "    \"transmogrify\": 'adv/transmogrify'\n",
    "    \n",
    "}\n",
    "header={'Authorization': 'Token ' + setupTable['token']}\n",
    "init = setupTable['url'] + setupTable['init']\n",
    "move = setupTable['url'] + setupTable['move']\n",
    "take = setupTable['url'] + setupTable['take']\n",
    "sell = setupTable['url'] + setupTable['sell']\n",
    "drop = setupTable['url'] + setupTable['drop']\n",
    "checkStatus = setupTable['url'] + setupTable['checkStatus']\n",
    "examine = setupTable['url'] + setupTable['examine']\n",
    "wearItem = setupTable['url'] + setupTable['wearItem']\n",
    "removeItem = setupTable['url'] + setupTable['removeItem']\n",
    "nameChange = setupTable['url'] + setupTable['nameChange']\n",
    "pray = setupTable['url'] + setupTable['pray']\n",
    "fly = setupTable['url'] + setupTable['fly']\n",
    "dash = setupTable['url'] + setupTable['dash']\n",
    "companionLetCarry = setupTable['url'] + setupTable['companionLetCarry']\n",
    "companionReceiveBack = setupTable['url'] + setupTable['companionReceiveBack']\n",
    "lambdaCoinProof = setupTable['url'] + setupTable['lambdaCoinProof']\n",
    "lambdaCoinMine = setupTable['url'] + setupTable['lambdaCoinMine']\n",
    "transmogrify = setupTable['url'] + setupTable['transmogrify']"
   ]
  },
  {
   "cell_type": "code",
   "execution_count": 476,
   "metadata": {},
   "outputs": [],
   "source": [
    "class Player:\n",
    "    \n",
    "    def __init__(self):\n",
    "        self.initResponse = requests.get(url=init, headers=header)\n",
    "        self.playersMap = worldMap\n",
    "        self.coolDown = None\n",
    "        self.status = None\n",
    "        self.inventory = None\n",
    "        \n",
    "        self.currentRoomID = None\n",
    "        self.previousRoomID = None\n",
    "        self.currentRoomInfo = None\n",
    "        self.lastMoveDirection = None\n",
    "\n",
    "        # Blockchain \n",
    "        self.lastProof = None\n",
    "        self.validProof = None\n",
    "\n",
    "        \n",
    "    def getRoomInfo(self):\n",
    "        time.sleep(1)\n",
    "        response = requests.get(url=init, headers=header)\n",
    "        \n",
    "        if response.status_code == 200:\n",
    "            return response.json()\n",
    "        else:\n",
    "            print(response.json())\n",
    "            print(f'400 status code at getRoomInfo method {response.status_code}')\n",
    "            \n",
    "    def assignCurrentRoomInfo(self):\n",
    "        self.currentRoomInfo = self.getRoomInfo()\n",
    "        \n",
    "    def assignCurrentRoomID(self):\n",
    "        self.currentRoomID = self.getCurrentRoomID()\n",
    "            \n",
    "    def getCurrentRoomID(self):\n",
    "        return self.currentRoomInfo['room_id']\n",
    "            \n",
    "    def writeNewRoomToMap(self):\n",
    "        exits = self.currentRoomInfo['exits']\n",
    "        \n",
    "        if self.currentRoomID not in self.playersMap:\n",
    "            self.playersMap[self.currentRoomID] = {key: '?' for key in exits}\n",
    "            \n",
    "    def writeMoveDirectionsForCurrentAndPreviousRoom(self, previousRoomID, currentRoomID, direction):\n",
    "        self.playersMap[previousRoomID][direction] = self.currentRoomID\n",
    "        self.playersMap[currentRoomID][inverseMap[direction]] = self.previousRoomID\n",
    "        \n",
    "    def moveRoom(self, direction):\n",
    "        if str(self.currentRoomID) in self.playersMap and self.playersMap[str(self.currentRoomID)][direction] !='?':\n",
    "            print(\"Wise Explore\")\n",
    "            \n",
    "            self.previousRoomID = self.currentRoomID\n",
    "            \n",
    "            nextRoom = self.playersMap[str(self.currentRoomID)][direction]\n",
    "            \n",
    "            postRequestBody = {\"direction\":direction, \"next_room_id\":str(nextRoom)}\n",
    "            response = requests.post(url=move, headers=header, json=postRequestBody)\n",
    "            self.currentRoomInfo = response.json()\n",
    "            self.coolDown = response.json()['cooldown']\n",
    "            \n",
    "            time.sleep(self.coolDown)\n",
    "            self.currentRoomID = self.getCurrentRoomID()\n",
    "            self.lastMoveDirection = direction\n",
    "            \n",
    "            print(\"Leaving room: \"+str(player.previousRoomID)+\" entering room: \"+str(player.currentRoomID))\n",
    "            \n",
    "        else:\n",
    "            print('Normal Explore')\n",
    "            self.previousRoomID = self.currentRoomID\n",
    "            \n",
    "            postRequestBody = {\"direction\":direction}\n",
    "            response = requests.post(url=move, headers=header, json=postRequestBody)\n",
    "\n",
    "            self.currentRoomInfo = response.json()\n",
    "            self.currentRoomID = self.getCurrentRoomID()\n",
    "            \n",
    "            if response.status_code == 200:\n",
    "                self.coolDown = response.json()['cooldown']\n",
    "                time.sleep(self.coolDown)\n",
    "                \n",
    "                self.lastMoveDirection = direction\n",
    "                \n",
    "                self.writeNewRoomToMap()\n",
    "                self.writeMoveDirectionsForCurrentAndPreviousRoom(self.previousRoomID, self.currentRoomID, direction)\n",
    "                print(\"Leaving room: \"+str(player.previousRoomID)+\" entering room: \"+str(player.currentRoomID))\n",
    "            else:\n",
    "                print(\"The move was not a success\")\n",
    "                \n",
    "        return self.getRoomInfo()\n",
    "    \n",
    "    def findUnexploredRoom(self):\n",
    "        for direction in self.playersMap[self.currentRoomID]:\n",
    "            if self.playersMap[self.currentRoomID][direction] == '?':\n",
    "                return direction\n",
    "        return direction\n",
    "    \n",
    "    def takeItem(self):\n",
    "        itemName = self.currentRoomInfo['items']\n",
    "        for items in itemName:\n",
    "            postRequestBody = {\"name\": items}\n",
    "            response = requests.post(url=take, headers=header, json=postRequestBody)\n",
    "            \n",
    "            self.coolDown = response.json()['cooldown']\n",
    "            print(\"Cooling down for :\"+ str(self.coolDown)+\"seconds\")\n",
    "            time.sleep(self.coolDown)\n",
    "        print(\"You have picked up \", itemName)\n",
    "        \n",
    "    def dropItem(self, itemName):\n",
    "        pass\n",
    "    \n",
    "    def sellItem(self):\n",
    "        self.checkPlayerStatus()\n",
    "        time.sleep(2)\n",
    "        if self.inventory:\n",
    "            for item in self.inventory:\n",
    "                postRequestBody = {\"name\": item, \"confirm\":\"yes\"}\n",
    "                response = requests.post(url=sell, headers=header, json=postRequestBody)\n",
    "                self.coolDown = response.json()['cooldown']\n",
    "                time.sleep(self.coolDown)\n",
    "                print(\"You have sold: \", item)\n",
    "                \n",
    "    def changeName(self):\n",
    "        postRequestBody = {\"name\": \"[CPHACHE]\", \"confirm\":\"aye\"}\n",
    "        response= requests.post(url=nameChange, headers=header, json=postRequestBody)\n",
    "        \n",
    "        print(response)\n",
    "        print(response.json())\n",
    "        \n",
    "    def prayToShrine(self):\n",
    "        response = requests.post(url=pray, headers=header)\n",
    "        print(response.json())\n",
    "        self.coolDown = response.json()['cooldown']\n",
    "        time.sleep(self.coolDown)\n",
    "        \n",
    "    def getLambdaCoinProof(self):\n",
    "        response = requests.get(url=lambdaCoinProof, headers=header)\n",
    "        self.lastProof = response.json()\n",
    "        return response.json()\n",
    "    \n",
    "    def mineCoin(self):\n",
    "        newProof = self.validProof\n",
    "        postRequestBody = {\"proof\":newProof}\n",
    "        response = requests.post(url=lambdaCoinMine, headers=header, json=postRequestBody)\n",
    "        print(response)\n",
    "        return response.json()\n",
    "        \n",
    "    def examineWell(self):\n",
    "        postRequestBody = {\"name\":\"WELL\"}\n",
    "        response = requests.post(url=examine, headers=header, json=postRequestBody)\n",
    "        return response.json()\n",
    "        \n",
    "    def transmogrifyItem(self, itemName):\n",
    "        postRequestBody = {\"name\":itemName}\n",
    "        response = requests.post(url=transmogrify, headers=header, json=postRequestBody)\n",
    "        return response.json()\n",
    "    \n",
    "    def checkPlayerStatus(self):\n",
    "        response = requests.post(url=checkStatus, headers=header)\n",
    "        self.status = response.json()\n",
    "        self.coolDown = response.json()['cooldown']\n",
    "        \n",
    "        if response.json()['inventory']:\n",
    "            self.inventory = response.json()['inventory']\n",
    "            \n",
    "        time.sleep(self.coolDown)\n",
    "        \n",
    "        print(response.json())\n",
    "        \n",
    "        "
   ]
  },
  {
   "cell_type": "code",
   "execution_count": 477,
   "metadata": {},
   "outputs": [],
   "source": [
    "def exploreWorld(player):\n",
    "    \"\"\"Traverses the world and records rooms to playersMap\"\"\"\n",
    "    print('Initializing...')\n",
    "    \n",
    "    roomStack = Stack()\n",
    "    moveStack = Stack()\n",
    "    count = 0\n",
    "    \n",
    "\n",
    "    player.currentRoomInfo = player.getRoomInfo()\n",
    "    print('Loading currentRoomInfo')\n",
    "    time.sleep(5)\n",
    "    \n",
    "    player.currentRoomID = player.currentRoomInfo['room_id']\n",
    "    player.writeNewRoomToMap()\n",
    "    \n",
    "    roomStack.push(player.currentRoomID)\n",
    "    \n",
    "    roomDict = {}\n",
    "    roomDict[player.currentRoomID] = player.currentRoomInfo\n",
    "    \n",
    "    while roomStack.size() > 0:\n",
    "        \n",
    "        direction = player.findUnexploredRoom()\n",
    "        print(\"Direction\", direction)\n",
    "        \n",
    "        if player.playersMap[player.currentRoomID][direction] == '?':\n",
    "            \n",
    "            player.moveRoom(direction)\n",
    "            moveStack.push(direction)\n",
    "            \n",
    "            print(\"Leaving room: \"+str(player.previousRoomID)+\" entering room: \"+str(player.currentRoomID))\n",
    "            \n",
    "            roomStack.push(player.currentRoomID)\n",
    "            \n",
    "            if player.currentRoomID not in roomDict:\n",
    "                roomDict[player.currentRoomID] = player.currentRoomInfo\n",
    "                \n",
    "        else:\n",
    "            print(\"roomStack:\", roomStack.stack)\n",
    "            print('moveStack:', moveStack.stack)\n",
    "            roomStack.pop()\n",
    "            lastMove = moveStack.stack[-1]\n",
    "            backTrackingDirection = inverseMap[lastMove]\n",
    "            \n",
    "            if roomStack.size() > 0:\n",
    "                player.previousRoomID = player.currentRoomID\n",
    "                player.moveRoom(backTrackingDirection)\n",
    "                player.lastMoveDirection = moveStack.stack[-1]      \n",
    "\n",
    "            moveStack.pop()\n",
    "\n",
    "    return roomDict          "
   ]
  },
  {
   "cell_type": "code",
   "execution_count": 478,
   "metadata": {},
   "outputs": [],
   "source": [
    "def bfs(player, starting_vertex, destination_vertex):\n",
    "    \"\"\"\n",
    "    Return a list containing the shortest path from\n",
    "    starting_vertex to destination_vertex in\n",
    "    breath-first order.\n",
    "    \"\"\"\n",
    "\n",
    "    # Create an empty queue and enqueue the starting vertex ID\n",
    "    pathQueue = Queue()\n",
    "    directionQueue = Queue()\n",
    "    \n",
    "    pathQueue.enqueue([str(starting_vertex)])\n",
    "    directionQueue.enqueue(['Starting Location'])\n",
    "\n",
    "    # Create a Set to store visited vertices\n",
    "    visited = set()\n",
    "\n",
    "    # While the queue is not empty...\n",
    "    while destination_vertex not in visited:\n",
    "        # Dequeue the first vertex\n",
    "        path = pathQueue.dequeue()\n",
    "        directionPath = directionQueue.dequeue()\n",
    "\n",
    "        # If that vertex has not been visited\n",
    "        v = path[-1]\n",
    "        \n",
    "        if v not in visited:\n",
    "            if v == destination_vertex:\n",
    "                return path, directionPath\n",
    "            visited.add(v)\n",
    "            \n",
    "        for direction, neighboringRoom in player.playersMap[v].items():\n",
    "            path_copy = list(path)\n",
    "            path_copy.append(str(neighboringRoom))\n",
    "            pathQueue.enqueue(path_copy)\n",
    "            \n",
    "            directionCopy = list(directionPath)\n",
    "            directionCopy.append(direction)\n",
    "            directionQueue.enqueue(directionCopy)\n",
    "\n",
    "    return None"
   ]
  },
  {
   "cell_type": "code",
   "execution_count": 479,
   "metadata": {},
   "outputs": [],
   "source": [
    "def dfs(player, starting_vertex, destination_vertex):\n",
    "    \"\"\"\n",
    "    Return a list containing the shortest path from\n",
    "    starting_vertex to destination_vertex in\n",
    "    breath-first order.\n",
    "    \"\"\"\n",
    "\n",
    "    # Create an empty queue and enqueue the starting vertex ID\n",
    "    pathStack = Stack()\n",
    "    directionStack = Stack()\n",
    "    \n",
    "    pathStack.push([str(starting_vertex)])\n",
    "    directionStack.push(['Starting Location'])\n",
    "\n",
    "    # Create a Set to store visited vertices\n",
    "    visited = set()\n",
    "\n",
    "    # While the queue is not empty...\n",
    "    while destination_vertex not in visited:\n",
    "        # Dequeue the first vertex\n",
    "        path = pathStack.pop()\n",
    "        directionPath = directionStack.pop()\n",
    "\n",
    "        # If that vertex has not been visited\n",
    "        v = path[-1]\n",
    "        \n",
    "        if v not in visited:\n",
    "            if v == destination_vertex:\n",
    "                return path, directionPath\n",
    "            visited.add(v)\n",
    "            \n",
    "        for direction, neighboringRoom in player.playersMap[v].items():\n",
    "            path_copy = list(path)\n",
    "            path_copy.append(str(neighboringRoom))\n",
    "            pathStack.push(path_copy)\n",
    "            \n",
    "            directionCopy = list(directionPath)\n",
    "            directionCopy.append(direction)\n",
    "            directionStack.push(directionCopy)\n",
    "\n",
    "    return None"
   ]
  },
  {
   "cell_type": "code",
   "execution_count": 480,
   "metadata": {},
   "outputs": [],
   "source": [
    "def moveToSpecificRoom(player, starting_vertex, destination_vertex):\n",
    "    path, directionPath = bfs(player, starting_vertex, destination_vertex)\n",
    "    \n",
    "    print(path)\n",
    "    directions = directionPath[1:]\n",
    "    print(directions)\n",
    "    for direction in directions:\n",
    "        player.moveRoom(direction)\n",
    "        time.sleep(player.coolDown)\n",
    "        print(player.currentRoomInfo)\n",
    "        \n",
    "    print(\"You have reached your destination\")"
   ]
  },
  {
   "cell_type": "code",
   "execution_count": 481,
   "metadata": {},
   "outputs": [],
   "source": [
    "def proof_of_work(player):\n",
    "    start = timer()\n",
    "    \n",
    "    last_proof = player.lastProof['proof']\n",
    "    \n",
    "    \n",
    "    print(\"Searching for next proof\")\n",
    "    #block_string = json.dumps(last_proof, sort_keys=True)\n",
    "    proof = 0\n",
    "    #  TODO: Your code here\n",
    "    while valid_proof(last_proof, proof) is False:\n",
    "        proof +=1\n",
    "    print(\"Proof found: \" + str(proof) + \" in \" + str(timer() - start))\n",
    "    player.validProof = proof\n",
    "    return proof\n",
    "\n",
    "\n",
    "def valid_proof(last_hash, proof):\n",
    "    \n",
    "    difficulty = player.lastProof['difficulty']\n",
    "    leadingZeros = '0'* difficulty\n",
    "    \n",
    "    guess = f'{last_hash}{proof}'.encode()\n",
    "    guess_hash = hashlib.sha256(guess).hexdigest()\n",
    "    if str(guess_hash)[:difficulty] == leadingZeros:\n",
    "        print(guess_hash)\n",
    "        return True\n",
    "    else:\n",
    "        return False"
   ]
  },
  {
   "cell_type": "markdown",
   "metadata": {},
   "source": [
    "## Initialize Player"
   ]
  },
  {
   "cell_type": "code",
   "execution_count": 482,
   "metadata": {},
   "outputs": [],
   "source": [
    "player = Player()\n",
    "player.assignCurrentRoomInfo()\n",
    "player.assignCurrentRoomID()"
   ]
  },
  {
   "cell_type": "code",
   "execution_count": 468,
   "metadata": {},
   "outputs": [
    {
     "data": {
      "text/plain": [
       "495"
      ]
     },
     "execution_count": 468,
     "metadata": {},
     "output_type": "execute_result"
    }
   ],
   "source": [
    "player.currentRoomID"
   ]
  },
  {
   "cell_type": "markdown",
   "metadata": {},
   "source": [
    "## Move to Specificied Room"
   ]
  },
  {
   "cell_type": "code",
   "execution_count": 459,
   "metadata": {},
   "outputs": [
    {
     "name": "stdout",
     "output_type": "stream",
     "text": [
      "['276', '197', '232', '235', '330', '383', '495']\n",
      "['e', 'n', 'w', 'n', 'w', 'w']\n",
      "Wise Explore\n",
      "Leaving room: 276 entering room: 197\n",
      "{'room_id': 197, 'title': 'A misty room', 'description': 'You are standing on grass and surrounded by a dense mist. You can barely make out the exits in any direction.', 'coordinates': '(53,56)', 'elevation': 0, 'terrain': 'NORMAL', 'players': [], 'items': [], 'exits': ['n', 'e', 'w'], 'cooldown': 7.5, 'errors': [], 'messages': ['You have walked east.', 'Wise Explorer: -50% CD']}\n",
      "Wise Explore\n",
      "Leaving room: 197 entering room: 232\n",
      "{'room_id': 232, 'title': 'A misty room', 'description': 'You are standing on grass and surrounded by a dense mist. You can barely make out the exits in any direction.', 'coordinates': '(53,57)', 'elevation': 0, 'terrain': 'NORMAL', 'players': [], 'items': [], 'exits': ['n', 's', 'w'], 'cooldown': 7.5, 'errors': [], 'messages': ['You have walked north.', 'Wise Explorer: -50% CD']}\n",
      "Wise Explore\n",
      "Leaving room: 232 entering room: 235\n",
      "{'room_id': 235, 'title': 'A misty room', 'description': 'You are standing on grass and surrounded by a dense mist. You can barely make out the exits in any direction.', 'coordinates': '(52,57)', 'elevation': 0, 'terrain': 'NORMAL', 'players': [], 'items': [], 'exits': ['n', 'e', 'w'], 'cooldown': 7.5, 'errors': [], 'messages': ['You have walked west.', 'Wise Explorer: -50% CD']}\n",
      "Wise Explore\n",
      "Leaving room: 235 entering room: 330\n",
      "{'room_id': 330, 'title': 'A misty room', 'description': 'You are standing on grass and surrounded by a dense mist. You can barely make out the exits in any direction.', 'coordinates': '(52,58)', 'elevation': 0, 'terrain': 'NORMAL', 'players': [], 'items': [], 'exits': ['n', 's', 'w'], 'cooldown': 7.5, 'errors': [], 'messages': ['You have walked north.', 'Wise Explorer: -50% CD']}\n",
      "Wise Explore\n",
      "Leaving room: 330 entering room: 383\n",
      "{'room_id': 383, 'title': 'A misty room', 'description': 'You are standing on grass and surrounded by a dense mist. You can barely make out the exits in any direction.', 'coordinates': '(51,58)', 'elevation': 0, 'terrain': 'NORMAL', 'players': [], 'items': [], 'exits': ['e', 'w'], 'cooldown': 7.5, 'errors': [], 'messages': ['You have walked west.', 'Wise Explorer: -50% CD']}\n",
      "Wise Explore\n",
      "Leaving room: 383 entering room: 495\n",
      "{'room_id': 495, 'title': 'The Transmogriphier', 'description': 'A strange machine stands in this room.  There is a large opening on the top.  A placard reads, \"Test your luck!  One item and one Lambdacoin!\"', 'coordinates': '(50,58)', 'elevation': 0, 'terrain': 'NORMAL', 'players': ['PWalis', 'justinchen32', 'Fully'], 'items': [], 'exits': ['e'], 'cooldown': 7.5, 'errors': [], 'messages': ['You have walked west.', 'Wise Explorer: -50% CD']}\n",
      "You have reached your destination\n"
     ]
    }
   ],
   "source": [
    "moveToSpecificRoom(player, player.currentRoomID, '495')"
   ]
  },
  {
   "cell_type": "code",
   "execution_count": 483,
   "metadata": {},
   "outputs": [
    {
     "ename": "TypeError",
     "evalue": "'NoneType' object is not subscriptable",
     "output_type": "error",
     "traceback": [
      "\u001b[0;31m---------------------------------------------------------------------------\u001b[0m",
      "\u001b[0;31mTypeError\u001b[0m                                 Traceback (most recent call last)",
      "\u001b[0;32m<ipython-input-483-b10475f9073a>\u001b[0m in \u001b[0;36m<module>\u001b[0;34m\u001b[0m\n\u001b[0;32m----> 1\u001b[0;31m \u001b[0mitemName\u001b[0m \u001b[0;34m=\u001b[0m \u001b[0mplayer\u001b[0m\u001b[0;34m.\u001b[0m\u001b[0mstatus\u001b[0m\u001b[0;34m[\u001b[0m\u001b[0;34m'inventory'\u001b[0m\u001b[0;34m]\u001b[0m\u001b[0;34m[\u001b[0m\u001b[0;34m-\u001b[0m\u001b[0;36m1\u001b[0m\u001b[0;34m]\u001b[0m\u001b[0;34m\u001b[0m\u001b[0;34m\u001b[0m\u001b[0m\n\u001b[0m",
      "\u001b[0;31mTypeError\u001b[0m: 'NoneType' object is not subscriptable"
     ]
    }
   ],
   "source": [
    "itemName = player.status['inventory'][-1]"
   ]
  },
  {
   "cell_type": "code",
   "execution_count": 473,
   "metadata": {},
   "outputs": [
    {
     "data": {
      "text/plain": [
       "'shiny treasure'"
      ]
     },
     "execution_count": 473,
     "metadata": {},
     "output_type": "execute_result"
    }
   ],
   "source": [
    "itemName"
   ]
  },
  {
   "cell_type": "code",
   "execution_count": 485,
   "metadata": {},
   "outputs": [
    {
     "data": {
      "text/plain": [
       "{'room_id': 495,\n",
       " 'title': 'The Transmogriphier',\n",
       " 'description': 'A strange machine stands in this room.  There is a large opening on the top.  A placard reads, \"Test your luck!  One item and one Lambdacoin!\"',\n",
       " 'coordinates': '(50,58)',\n",
       " 'elevation': 0,\n",
       " 'terrain': 'NORMAL',\n",
       " 'players': ['PWalis', 'justinchen32'],\n",
       " 'items': [],\n",
       " 'exits': ['e'],\n",
       " 'cooldown': 15.0,\n",
       " 'errors': [],\n",
       " 'messages': ['Your shiny treasure transmogrified into nice jacket!']}"
      ]
     },
     "execution_count": 485,
     "metadata": {},
     "output_type": "execute_result"
    }
   ],
   "source": [
    "player.transmogrifyItem(itemName)"
   ]
  },
  {
   "cell_type": "code",
   "execution_count": 486,
   "metadata": {},
   "outputs": [
    {
     "name": "stdout",
     "output_type": "stream",
     "text": [
      "{'name': '[CPHACHE]', 'cooldown': 1.0, 'encumbrance': 8, 'strength': 10, 'speed': 10, 'gold': 200, 'bodywear': None, 'footwear': None, 'inventory': ['nice jacket', 'tiny treasure', 'small treasure', 'tiny treasure', 'small treasure', 'tiny treasure'], 'abilities': ['pray', 'mine', 'fly', 'dash', 'carry'], 'status': [], 'has_mined': True, 'errors': [], 'messages': []}\n"
     ]
    }
   ],
   "source": [
    "player.checkPlayerStatus()"
   ]
  },
  {
   "cell_type": "markdown",
   "metadata": {},
   "source": [
    "## BlockChain"
   ]
  },
  {
   "cell_type": "code",
   "execution_count": 411,
   "metadata": {},
   "outputs": [
    {
     "name": "stdout",
     "output_type": "stream",
     "text": [
      "Searching for next proof\n",
      "0000007edc8a0e76c7ba6c7deff8314d129b0d51e37843af01284f66ea1054e1\n",
      "Proof found: 15596417 in 45.538837959000375\n",
      "<Response [200]>\n"
     ]
    },
    {
     "data": {
      "text/plain": [
       "{'name': '[CPHACHE]',\n",
       " 'description': '[CPHACHE] looks like an ordinary person.',\n",
       " 'cooldown': 115.0,\n",
       " 'errors': ['There is no coin here: +100s'],\n",
       " 'messages': []}"
      ]
     },
     "execution_count": 411,
     "metadata": {},
     "output_type": "execute_result"
    }
   ],
   "source": [
    "player.getLambdaCoinProof()\n",
    "proof_of_work(player)\n",
    "player.mineCoin()"
   ]
  },
  {
   "cell_type": "markdown",
   "metadata": {},
   "source": [
    "## Examine Well"
   ]
  },
  {
   "cell_type": "code",
   "execution_count": 448,
   "metadata": {
    "scrolled": true
   },
   "outputs": [
    {
     "data": {
      "text/plain": [
       "{'name': 'Wishing Well',\n",
       " 'description': 'You see a faint pattern in the water...\\n\\n10000010\\n00000001\\n01001101\\n01001000\\n00000001\\n10000010\\n00000001\\n01101001\\n01001000\\n00000001\\n10000010\\n00000001\\n01101110\\n01001000\\n00000001\\n10000010\\n00000001\\n01100101\\n01001000\\n00000001\\n10000010\\n00000001\\n00100000\\n01001000\\n00000001\\n10000010\\n00000001\\n01111001\\n01001000\\n00000001\\n10000010\\n00000001\\n01101111\\n01001000\\n00000001\\n10000010\\n00000001\\n01110101\\n01001000\\n00000001\\n10000010\\n00000001\\n01110010\\n01001000\\n00000001\\n10000010\\n00000001\\n00100000\\n01001000\\n00000001\\n10000010\\n00000001\\n01100011\\n01001000\\n00000001\\n10000010\\n00000001\\n01101111\\n01001000\\n00000001\\n10000010\\n00000001\\n01101001\\n01001000\\n00000001\\n10000010\\n00000001\\n01101110\\n01001000\\n00000001\\n10000010\\n00000001\\n00100000\\n01001000\\n00000001\\n10000010\\n00000001\\n01101001\\n01001000\\n00000001\\n10000010\\n00000001\\n01101110\\n01001000\\n00000001\\n10000010\\n00000001\\n00100000\\n01001000\\n00000001\\n10000010\\n00000001\\n01110010\\n01001000\\n00000001\\n10000010\\n00000001\\n01101111\\n01001000\\n00000001\\n10000010\\n00000001\\n01101111\\n01001000\\n00000001\\n10000010\\n00000001\\n01101101\\n01001000\\n00000001\\n10000010\\n00000001\\n00100000\\n01001000\\n00000001\\n10000010\\n00000001\\n00110000\\n10000010\\n00000010\\n00110000\\n10101000\\n00000001\\n00000010\\n10000010\\n00000010\\n00000010\\n10101011\\n00000001\\n00000010\\n01001000\\n00000001\\n10000010\\n00000001\\n00111111\\n10000010\\n00000010\\n00010111\\n10101000\\n00000001\\n00000010\\n10000010\\n00000010\\n00101110\\n10101011\\n00000001\\n00000010\\n01001000\\n00000001\\n10000010\\n00000001\\n00101111\\n10000010\\n00000010\\n11011101\\n10101000\\n00000001\\n00000010\\n10000010\\n00000010\\n00111000\\n10101011\\n00000001\\n00000010\\n01001000\\n00000001\\n00000001',\n",
       " 'cooldown': 7.5,\n",
       " 'errors': [],\n",
       " 'messages': []}"
      ]
     },
     "execution_count": 448,
     "metadata": {},
     "output_type": "execute_result"
    }
   ],
   "source": [
    "player.examineWell()"
   ]
  },
  {
   "cell_type": "markdown",
   "metadata": {},
   "source": [
    "## Dash"
   ]
  },
  {
   "cell_type": "code",
   "execution_count": 430,
   "metadata": {},
   "outputs": [
    {
     "data": {
      "text/plain": [
       "{'n': 227, 's': 147, 'e': 206}"
      ]
     },
     "execution_count": 430,
     "metadata": {},
     "output_type": "execute_result"
    }
   ],
   "source": [
    "direction = 's'\n",
    "nextRoomIDs = []\n",
    "for room in range(5)\n",
    "    player.playersMap[str(player.currentRoomID)]"
   ]
  },
  {
   "cell_type": "code",
   "execution_count": 436,
   "metadata": {},
   "outputs": [
    {
     "name": "stdout",
     "output_type": "stream",
     "text": [
      "{'room_id': 20, 'title': 'A misty room', 'description': 'You are standing on grass and surrounded by a dense mist. You can barely make out the exits in any direction.', 'coordinates': '(60,63)', 'elevation': 0, 'terrain': 'NORMAL', 'players': ['Eric_F'], 'items': [], 'exits': ['n', 's', 'e', 'w'], 'cooldown': 16.5, 'errors': [], 'messages': ['You have dashed to room 30.', 'You have dashed to room 27.', 'You have dashed to room 20.']}\n"
     ]
    }
   ],
   "source": [
    "postRequestBody = {\"direction\":\"w\",\n",
    "                   \"num_rooms\": \"3\",\n",
    "                   \"next_room_ids\": \"30,27,20\",\n",
    "                  }\n",
    "response = requests.post(url=dash, headers=header, json=postRequestBody)\n",
    "print(response.json())"
   ]
  },
  {
   "cell_type": "code",
   "execution_count": null,
   "metadata": {},
   "outputs": [],
   "source": []
  }
 ],
 "metadata": {
  "kernelspec": {
   "display_name": "Python 3",
   "language": "python",
   "name": "python3"
  },
  "language_info": {
   "codemirror_mode": {
    "name": "ipython",
    "version": 3
   },
   "file_extension": ".py",
   "mimetype": "text/x-python",
   "name": "python",
   "nbconvert_exporter": "python",
   "pygments_lexer": "ipython3",
   "version": "3.7.4"
  }
 },
 "nbformat": 4,
 "nbformat_minor": 2
}
